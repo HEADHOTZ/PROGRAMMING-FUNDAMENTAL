{
  "nbformat": 4,
  "nbformat_minor": 0,
  "metadata": {
    "colab": {
      "provenance": [],
      "include_colab_link": true
    },
    "kernelspec": {
      "name": "python3",
      "display_name": "Python 3"
    },
    "language_info": {
      "name": "python"
    }
  },
  "cells": [
    {
      "cell_type": "markdown",
      "metadata": {
        "id": "view-in-github",
        "colab_type": "text"
      },
      "source": [
        "<a href=\"https://colab.research.google.com/github/HEADHOTZ/PROGRAMMING-FUNDAMENTAL/blob/main/Lab5.ipynb\" target=\"_parent\"><img src=\"https://colab.research.google.com/assets/colab-badge.svg\" alt=\"Open In Colab\"/></a>"
      ]
    },
    {
      "cell_type": "markdown",
      "source": [
        "รหัสนักศึกษา : 67015080 ชื่อ : นายบุณยกร เกตุแก้ว"
      ],
      "metadata": {
        "id": "ayuUhdui4PbN"
      }
    },
    {
      "cell_type": "markdown",
      "source": [
        "Exercise 5.1 ให้เขียน function ชื่อ day_of_year(day, month ,year) โดยมีการคืนค่า คือ day_of_years เป็นวันที่ลำดับที่เท่าใดของปีคริสตศักราช year\n",
        "ปีที่เป็น Leap Year เดือนกุมภาพันธ์จะมี 29 วัน\n",
        "ให้สร้างฟังก์ชัน is_leap เพื่อตรวจสอบ leap year แยกออกมา และให้ฟังก์ชัน day_of_year เรียกใช้ is_leap อีกที\n"
      ],
      "metadata": {
        "id": "ZXM4rXQB6Q9o"
      }
    },
    {
      "cell_type": "code",
      "source": [
        "days_in_month = [31, 28, 31, 30, 31, 30, 31, 31, 30, 31, 30, 31]\n",
        "days_in_month_leap_year = [31, 29, 31, 30, 31, 30, 31, 31, 30, 31, 30, 31]\n",
        "\n",
        "def leap_year(year):\n",
        "  if year % 400 == 0 and year % 100 == 0:\n",
        "    return True\n",
        "  elif year % 4 == 0 and year % 100 != 0:\n",
        "    return True\n",
        "  else:\n",
        "    return False\n",
        "\n",
        "def day_of_year(day, month, year):\n",
        "  month_day = 0\n",
        "  check_leap_year = leap_year(year)\n",
        "  if check_leap_year == True:\n",
        "    days = days_in_month_leap_year\n",
        "  else:\n",
        "    days = days_in_month\n",
        "\n",
        "  for i in range(month-1):\n",
        "    month_day += days[i]\n",
        "\n",
        "  return day + month_day\n",
        "\n",
        "# Testcases\n",
        "print(\"Normal year (2023):\")\n",
        "print(f\"1 Jan 2023: {day_of_year(1, 1, 2023)}\")  # ควรได้ 1\n",
        "print(f\"1 Feb 2023: {day_of_year(1, 2, 2023)}\")  # ควรได้ 32\n",
        "print(f\"1 Mar 2023: {day_of_year(1, 3, 2023)}\")  # ควรได้ 60\n",
        "print(f\"31 Dec 2023: {day_of_year(31, 12, 2023)}\")  # ควรได้ 365\n",
        "\n",
        "print(\"\\nLeap year (2024):\")\n",
        "print(f\"1 Jan 2024: {day_of_year(1, 1, 2024)}\")  # ควรได้ 1\n",
        "print(f\"29 Feb 2024: {day_of_year(29, 2, 2024)}\")  # ควรได้ 60\n",
        "print(f\"1 Mar 2024: {day_of_year(1, 3, 2024)}\")  # ควรได้ 61\n",
        "print(f\"31 Dec 2024: {day_of_year(31, 12, 2024)}\")  # ควรได้ 366\n",
        "\n",
        "print(\"\\nCentury year, not a leap year (1900):\")\n",
        "print(f\"1 Mar 1900: {day_of_year(1, 3, 1900)}\")  # ควรได้ 60\n",
        "\n",
        "print(\"\\nCentury year, leap year (2000):\")\n",
        "print(f\"1 Mar 2000: {day_of_year(1, 3, 2000)}\")  # ควรได้ 61\n",
        "\n",
        "print(\"\\nMid-year dates:\")\n",
        "print(f\"15 Jun 2023: {day_of_year(15, 6, 2023)}\")  # ควรได้ 166\n",
        "print(f\"15 Jun 2024: {day_of_year(15, 6, 2024)}\")  # ควรได้ 167 (Leap year)\n",
        "\n",
        "print(\"\\nLast day of each quarter:\")\n",
        "print(f\"31 Mar 2023: {day_of_year(31, 3, 2023)}\")  # ควรได้ 90\n",
        "print(f\"30 Jun 2023: {day_of_year(30, 6, 2023)}\")  # ควรได้ 181\n",
        "print(f\"30 Sep 2023: {day_of_year(30, 9, 2023)}\")  # ควรได้ 273\n",
        "print(f\"31 Dec 2023: {day_of_year(31, 12, 2023)}\")  # ควรได้ 365"
      ],
      "metadata": {
        "id": "oerlrWw46aJZ",
        "colab": {
          "base_uri": "https://localhost:8080/"
        },
        "outputId": "6daf04c1-0626-4dab-c696-f3f0bab8b130"
      },
      "execution_count": null,
      "outputs": [
        {
          "output_type": "stream",
          "name": "stdout",
          "text": [
            "Normal year (2023):\n",
            "1 Jan 2023: 1\n",
            "1 Feb 2023: 32\n",
            "1 Mar 2023: 60\n",
            "31 Dec 2023: 365\n",
            "\n",
            "Leap year (2024):\n",
            "1 Jan 2024: 1\n",
            "29 Feb 2024: 60\n",
            "1 Mar 2024: 61\n",
            "31 Dec 2024: 366\n",
            "\n",
            "Century year, not a leap year (1900):\n",
            "1 Mar 1900: 60\n",
            "\n",
            "Century year, leap year (2000):\n",
            "1 Mar 2000: 61\n",
            "\n",
            "Mid-year dates:\n",
            "15 Jun 2023: 166\n",
            "15 Jun 2024: 167\n",
            "\n",
            "Last day of each quarter:\n",
            "31 Mar 2023: 90\n",
            "30 Jun 2023: 181\n",
            "30 Sep 2023: 273\n",
            "31 Dec 2023: 365\n"
          ]
        }
      ]
    },
    {
      "cell_type": "markdown",
      "source": [
        "Exercise 5.2 ให้เขียนฟังก์ชัน เพิ่มเติมเป็น date_diff\n",
        "รับข้อมูลในรูปแบบ “dd-mm-yyyy” เช่น date_diff(“1-1-2018”, “1-1-2020”) จะได้ 731 วัน date_diff(“25-12-1999”, “9-3-2000”) จะได้ 76 วัน\n",
        "ให้เขียนฟังก์ชัน day_in_year โดยจะส่งค่าจำนวนวันของปี (365 หรือ 366) โดยรับข้อมูลเป็น ปี\n",
        "ส่งคืนข้อมูลเป็นจำนวนวันตั้งแต่วันที่แรก จนถึงวันที่สอง โดยรวมทั้ง 2 วันนั้นเข้าไปด้วย\n",
        "ให้สมมติว่าวันแรก จะต้องมาก่อนวันที่สองเสมอ ดังนั้นไม่ต้องตรวจสอบ\n"
      ],
      "metadata": {
        "id": "fkkuNcAcCo-z"
      }
    },
    {
      "cell_type": "code",
      "source": [
        "days_in_month = [31, 28, 31, 30, 31, 30, 31, 31, 30, 31, 30, 31]\n",
        "days_in_month_leap_year = [31, 29, 31, 30, 31, 30, 31, 31, 30, 31, 30, 31]\n",
        "\n",
        "def is_leap(year):\n",
        "  if year % 400 == 0 and year % 100 == 0:\n",
        "    return True\n",
        "  elif year % 4 == 0 and year % 100 != 0:\n",
        "    return True\n",
        "  else:\n",
        "    return False\n",
        "\n",
        "def day_of_year(day, month, year):\n",
        "  month_day = 0\n",
        "  check_leap_year = leap_year(int(year))\n",
        "  if check_leap_year == True:\n",
        "    days = days_in_month_leap_year\n",
        "  else:\n",
        "    days = days_in_month\n",
        "\n",
        "  for i in range(int(month)-1):\n",
        "    month_day += days[i]\n",
        "\n",
        "  return int(day) + month_day\n",
        "\n",
        "def day_in_year(year):\n",
        "    return 366 if is_leap(year) else 365\n",
        "\n",
        "def date_diff(date1, date2):\n",
        "    total_year = 0\n",
        "    date1 = date1.split('-')\n",
        "    date2 = date2.split('-')\n",
        "    day_date1 = day_of_year(date1[0],date1[1],date1[2])\n",
        "    day_date2 = day_of_year(date2[0],date2[1],date2[2])\n",
        "\n",
        "    for i in range(int(date1[2]),int(date2[2])):\n",
        "      total_year += day_in_year(i)\n",
        "\n",
        "    day_date1 = day_of_year(int(date1[0]),int(date1[1]),int(date1[2]))\n",
        "    day_date2 = day_of_year(int(date2[0]),int(date2[1]),int(date2[2]))\n",
        "\n",
        "    return abs(total_year - abs(day_date1 - day_date2)) + 1\n",
        "\n",
        "# ทดสอบฟังก์ชัน\n",
        "print(date_diff(\"1-1-2018\", \"1-1-2020\"))  # ควรได้ 731\n",
        "print(date_diff(\"25-12-1999\", \"9-3-2000\"))  # ควรได้ 76\n",
        "print(date_diff(\"1-1-2000\", \"1-1-2001\"))  # ควรได้ 367 (ปี 2000 เป็น leap year)\n",
        "print(date_diff(\"1-1-2001\", \"1-1-2002\"))  # ควรได้ 366 (ปี 2001 ไม่ใช่ leap year)\n",
        "print(date_diff(\"1-3-2000\", \"1-3-2001\"))  # ควรได้ 366 (ข้ามปี leap year)\n",
        "print(date_diff(\"1-1-2023\", \"31-12-2023\"))  # ควรได้ 365 (ทั้งปี 2023)\n"
      ],
      "metadata": {
        "id": "dwNIkw0wDRjF",
        "colab": {
          "base_uri": "https://localhost:8080/"
        },
        "outputId": "d660e583-6366-4121-dadc-5d348aa36cd4"
      },
      "execution_count": null,
      "outputs": [
        {
          "output_type": "stream",
          "name": "stdout",
          "text": [
            "731\n",
            "76\n",
            "367\n",
            "366\n",
            "366\n",
            "365\n"
          ]
        }
      ]
    },
    {
      "cell_type": "markdown",
      "source": [
        "Exercise 5.3 จากโปรแกรม 5.2 ให้เขียนฟังก์ชัน date_diff  เพิ่มเติม โดยให้มีการตรวจสอบ\n",
        "วันที่ต้องเป็นวันที่ถูกต้องของเดือนนั้นๆ\n",
        "เดือนต้องอยู่ระหว่าง 1-12\n",
        "เดือนกุมภาพันธ์ของปีที่มี Leap Year เท่านั้นที่จะมี 29 วันได้\n",
        "หากข้อมูล Input ผิดพลาด ให้ Return -1\n"
      ],
      "metadata": {
        "id": "JU8jQcg4WDoF"
      }
    },
    {
      "cell_type": "code",
      "source": [
        "days_in_month = [31, 28, 31, 30, 31, 30, 31, 31, 30, 31, 30, 31]\n",
        "days_in_month_leap_year = [31, 29, 31, 30, 31, 30, 31, 31, 30, 31, 30, 31]\n",
        "\n",
        "def is_leap(year):\n",
        "  if year % 400 == 0 and year % 100 == 0:\n",
        "    return True\n",
        "  elif year % 4 == 0 and year % 100 != 0:\n",
        "    return True\n",
        "  else:\n",
        "    return False\n",
        "\n",
        "def day_of_year(day, month, year):\n",
        "  month_day = 0\n",
        "  check_leap_year = leap_year(int(year))\n",
        "  if check_leap_year == True:\n",
        "    days = days_in_month_leap_year\n",
        "  else:\n",
        "    days = days_in_month\n",
        "\n",
        "  for i in range(int(month)-1):\n",
        "    month_day += days[i]\n",
        "\n",
        "  return int(day) + month_day\n",
        "\n",
        "def day_in_year(year):\n",
        "    return 366 if is_leap(year) else 365\n",
        "\n",
        "def check_date(date1, date2):\n",
        "  try:\n",
        "    date1 = date1.split('-')\n",
        "    date2 = date2.split('-')\n",
        "\n",
        "    date1_day = int(date1[0])\n",
        "    date1_month = int(date1[1])\n",
        "    date1_year = int(date1[2])\n",
        "\n",
        "    date2_day = int(date2[0])\n",
        "    date2_month = int(date2[1])\n",
        "    date2_year = int(date2[2])\n",
        "\n",
        "    if leap_year(int(date1[2])) == True:\n",
        "      days_date1 = days_in_month_leap_year\n",
        "    else:\n",
        "      days_date1 = days_in_month\n",
        "\n",
        "    if leap_year(int(date2[2])) == True:\n",
        "      days_date2 = days_in_month_leap_year\n",
        "    else:\n",
        "      days_date2 = days_in_month\n",
        "  except:\n",
        "    return -1\n",
        "\n",
        "  if(date1_month < 1 or date1_month > 12) or (date2_month < 1 or date2_month > 12):\n",
        "    return -1\n",
        "  elif (date1_day > days_date1[date1_month-1]):\n",
        "    return -1\n",
        "  elif (date2_day > days_date2[date2_month-1]):\n",
        "    return -1\n",
        "\n",
        "def date_diff(date1, date2):\n",
        "  if check_date(date1, date2) == -1:\n",
        "    return -1\n",
        "\n",
        "  else:\n",
        "    total_year = 0\n",
        "    date1 = date1.split('-')\n",
        "    date2 = date2.split('-')\n",
        "    day_date1 = day_of_year(date1[0],date1[1],date1[2])\n",
        "    day_date2 = day_of_year(date2[0],date2[1],date2[2])\n",
        "\n",
        "    for i in range(int(date1[2]),int(date2[2])):\n",
        "      total_year += day_in_year(i)\n",
        "\n",
        "    day_date1 = day_of_year(int(date1[0]),int(date1[1]),int(date1[2]))\n",
        "    day_date2 = day_of_year(int(date2[0]),int(date2[1]),int(date2[2]))\n",
        "    return abs(total_year - abs(day_date1 - day_date2)) + 1\n",
        "\n",
        "# ทดสอบฟังก์ชัน\n",
        "print(date_diff(\"1-1-2018\", \"1-1-2020\"))  # ควรได้ 731\n",
        "print(date_diff(\"25-12-1999\", \"9-3-2000\"))  # ควรได้ 76\n",
        "print(date_diff(\"1-1-2000\", \"1-1-2001\"))  # ควรได้ 367 (ปี 2000 เป็น leap year)\n",
        "print(date_diff(\"1-1-2001\", \"1-1-2002\"))  # ควรได้ 366 (ปี 2001 ไม่ใช่ leap year)\n",
        "print(date_diff(\"1-3-2000\", \"1-3-2001\"))  # ควรได้ 366 (ข้ามปี leap year)\n",
        "print(date_diff(\"1-1-2023\", \"31-12-2023\"))  # ควรได้ 365 (ทั้งปี 2023)\n",
        "\n",
        "# ทดสอบกรณีข้อมูลไม่ถูกต้อง\n",
        "print(date_diff(\"31-4-2023\", \"1-5-2023\"))  # ควรได้ -1 (เดือนเมษายนมี 30 วัน)\n",
        "print(date_diff(\"29-2-2023\", \"1-3-2023\"))  # ควรได้ -1 (ปี 2023 ไม่ใช่ leap year)\n",
        "print(date_diff(\"1-13-2023\", \"1-1-2024\"))  # ควรได้ -1 (เดือนไม่ถูกต้อง)\n",
        "print(date_diff(\"abc\", \"1-1-2024\"))  # ควรได้ -1 (รูปแบบวันที่ไม่ถูกต้อง)"
      ],
      "metadata": {
        "id": "OgqrXbFVWEML",
        "colab": {
          "base_uri": "https://localhost:8080/"
        },
        "outputId": "ceab018d-8881-409f-a8dc-8bea151a231a"
      },
      "execution_count": null,
      "outputs": [
        {
          "output_type": "stream",
          "name": "stdout",
          "text": [
            "731\n",
            "76\n",
            "367\n",
            "366\n",
            "366\n",
            "365\n",
            "-1\n",
            "-1\n",
            "-1\n",
            "-1\n"
          ]
        }
      ]
    },
    {
      "cell_type": "markdown",
      "source": [
        "1.\tปลาหมอคางดำเพศเมีย 1 ตัว เมื่ออายุครบ 2 เดือน จะสามารถสืบพันธ์ได้ โดยระยะเวลาตั้งท้องจนถึง\n",
        "วางไข่ของตัวเมียจะใช้เวลา 21 วัน และฟักในปากเพศผู้อีก 7 วัน (สามารถรวมเป็น 1 เดือนได้) โดยออกไข่ครั้งละ 300 ฟอง กำหนดให้ไข่ฟักเป็นเพศผู้และเพศเมียอย่างละครึ่ง และเมื่อวางไข่แล้วจะสามารถสืบพันธ์ต่อได้ทันที กำหนดให้ปลามีอายุ 5 ปี และปลาทั้งหมดจะตาย p% ทุก 1 เดือน จงหาว่าปลาหมอคางดำหลุดจากฟาร์ม n ตัวเป็นเพศผู้และเพศเมียอย่างละครึ่ง จงเขียนโปรแกรมรับค่า n และ p ให้แสดงผลจำนวนปลาทุก 3 เดือน เป็นเวลา 10 ปี ให้เขียนเป็นฟังก์ชัน ชื่อ simulate_fish_population()\n"
      ],
      "metadata": {
        "id": "tdBCjJzeWb2c"
      }
    },
    {
      "cell_type": "code",
      "execution_count": 24,
      "metadata": {
        "id": "JmvNmVQh4C9X",
        "colab": {
          "base_uri": "https://localhost:8080/"
        },
        "outputId": "4e4897ab-d3b1-47ef-9382-e7a4c6557611"
      },
      "outputs": [
        {
          "output_type": "stream",
          "name": "stdout",
          "text": [
            "เดือนที่ 3 220.15800000000002\n",
            "เดือนที่ 6 48795.24175200001\n",
            "เดือนที่ 9 5419966.163388409\n",
            "เดือนที่ 12 1201267408.5868232\n",
            "เดือนที่ 15 133431631323.08261\n",
            "เดือนที่ 18 29573444769032.457\n",
            "เดือนที่ 21 3284891399840122.0\n",
            "เดือนที่ 24 7.280549103849275e+17\n",
            "เดือนที่ 27 8.086921670481689e+19\n",
            "เดือนที่ 30 1.7923645915292764e+22\n",
            "เดือนที่ 33 1.990881710965827e+24\n",
            "เดือนที่ 36 4.412539196074375e+26\n",
            "เดือนที่ 39 4.901259278330726e+28\n",
            "เดือนที่ 42 1.0863025440755961e+31\n",
            "เดือนที่ 45 1.2066182727535927e+33\n",
            "เดือนที่ 48 2.67431781300651e+35\n",
            "เดือนที่ 51 2.9705175210374177e+37\n",
            "เดือนที่ 54 6.583778896559607e+39\n",
            "เดือนที่ 57 7.312979209782162e+41\n",
            "เดือนที่ 60 1.6208299682248018e+44\n",
            "เดือนที่ 63 1.8003484087859884e+46\n",
            "เดือนที่ 66 3.990246068664932e+48\n",
            "เดือนที่ 69 4.43219418521332e+50\n",
            "เดือนที่ 72 9.823401590935807e+52\n",
            "เดือนที่ 75 1.0911413146239483e+55\n",
            "เดือนที่ 78 2.4183776427875062e+57\n",
            "เดือนที่ 81 2.686230157630098e+59\n",
            "เดือนที่ 84 5.953691670847494e+61\n",
            "เดือนที่ 87 6.613105344882198e+63\n",
            "เดือนที่ 90 1.4657117186487894e+66\n",
            "เดือนที่ 93 1.6280497104199248e+68\n",
            "เดือนที่ 96 3.6083676497788486e+70\n",
            "เดือนที่ 99 4.008020016873958e+72\n",
            "เดือนที่ 102 8.883272836198448e+74\n",
            "เดือนที่ 105 9.867158449061646e+76\n",
            "เดือนที่ 108 2.186931708224844e+79\n",
            "เดือนที่ 111 2.429149940593981e+81\n",
            "เดือนที่ 114 5.383905667008594e+83\n",
            "เดือนที่ 117 5.9802114908258075e+85\n",
            "เดือนที่ 120 1.3254387470002825e+88\n"
          ]
        }
      ],
      "source": [
        "import math\n",
        "\n",
        "def simulate_fish_population(n, p, months=3):\n",
        "  adult_male = n // 2\n",
        "  adult_female = n // 2\n",
        "  egg_cnt = 0\n",
        "  baby_fish = 0\n",
        "  month = 0\n",
        "\n",
        "  for i in range(1, 121):\n",
        "    month += 1\n",
        "    if month % 2 == 0:\n",
        "      egg_cnt += adult_female * 300\n",
        "\n",
        "    if month % 3 == 0:\n",
        "      baby_fish += egg_cnt * 0.9\n",
        "      egg_count = 0\n",
        "\n",
        "    adult_male += baby_fish * 0.5\n",
        "    adult_female += baby_fish * 0.5\n",
        "    baby_fish = 0\n",
        "\n",
        "    adult_male *= (1 - p / 100)\n",
        "    adult_female *= (1 - p / 100)\n",
        "\n",
        "    if month % 3 == 0:\n",
        "      total_adults = adult_male + adult_female\n",
        "      print(f'เดือนที่ {month}', total_adults)\n",
        "\n",
        "# Run simulation\n",
        "n = 2  # Initial number of fish\n",
        "p = 10  # Monthly mortality rate\n",
        "\n",
        "simulate_fish_population(n, p)\n",
        "\n",
        "# ถ้าเริ่มต้นด้วยปลา 2 ตัว ตายเดือนละ 10%\n",
        "# เดือนที่ 1 ไข่ 300 ไบ\n",
        "# เดือนที่ 2 ไข่ 300 ใบ + ลูกปลา 270 ตัว\n",
        "# เดือนที่ 3 ไข่ 300 ใบ + ลูกปลา 270 ตัว + ปลาโตเต็มวัย 243 ตัว\n"
      ]
    },
    {
      "cell_type": "markdown",
      "source": [
        "2.\tให้เขียน function find_mismatch ซึ่งรับ string มา 2 ค่า โดยจะส่งค่ากลับดังนี้\n",
        "- 0 เมื่อ string ทั้ง 2 ตัว เหมือนกัน โดยไม่สนใจ case\n",
        "- 1 เมื่อ string 1 จะเหมือน string 2 โดยการลบและ/หรือเพิ่มตัวอักษรเพียง 1 ตัว\n",
        "- 2 เมื่อ string ไม่เข้าเกณฑ์ 0 หรือ 1\n",
        "\n",
        "\n",
        "| String  1| \tString2\t|ผลลัพธ์|\n",
        "|----------|----------|------|\n",
        "|Python|\tJava\t|2|\n",
        "|book\t |  boot\t|1|\n",
        "|fan\t |  fun\t  |1|\n",
        "|sin\t | sink\t  |1 เพราะเพิ่ม k ใน str2 แล้วจะเหมือนกัน\n",
        "|Dog\t | dog\t  |0\n",
        "|poke\t | spoke\t|1 เพิ่ม s ใน str2 แล้วเหมือนกัน\n",
        "|poker |\tpoke\t|1 ตัด r ใน str1 ออกแล้วเหมือนกัน\n",
        "\n",
        "\n",
        "\n",
        "\n"
      ],
      "metadata": {
        "id": "F0_ZEPOYbDKf"
      }
    },
    {
      "cell_type": "code",
      "source": [
        "def find_mismatch(str1, str2):\n",
        "  str1 = str1.lower()\n",
        "  str2 = str2.lower()\n",
        "\n",
        "  if str1 == str2:\n",
        "    return 0\n",
        "\n",
        "  if abs(len(str1) - len(str2)) == 1:\n",
        "    if len(str1) > len(str2):\n",
        "      for i in range(len(str1)):\n",
        "        if str1[:i] + str1[i+1:] == str2:\n",
        "          return 1\n",
        "    else:\n",
        "      for i in range(len(str2)):\n",
        "        if str2[:i] + str2[i+1:] == str1:\n",
        "          return 1\n",
        "\n",
        "  if len(str1) == len(str2):\n",
        "    cnt_mismatch = 0\n",
        "    for i in range(len(str1)):\n",
        "      if str1[i] != str2[i]:\n",
        "        cnt_mismatch += 1\n",
        "      if cnt_mismatch > 1:\n",
        "        return 2\n",
        "    return 1\n",
        "  return 2\n",
        "\n",
        "print(find_mismatch('Python','Java'))\n",
        "print(find_mismatch('book','boot'))\n",
        "print(find_mismatch('fan','fun'))\n",
        "print(find_mismatch('sin','sink'))\n",
        "print(find_mismatch('Dog','dog'))\n",
        "print(find_mismatch('poke','spoke'))\n",
        "print(find_mismatch('poker','poke'))"
      ],
      "metadata": {
        "id": "jyVxAb-MXnz2",
        "colab": {
          "base_uri": "https://localhost:8080/"
        },
        "outputId": "c1a2491f-40e8-4159-9ef9-3f98ba58a656"
      },
      "execution_count": 9,
      "outputs": [
        {
          "output_type": "stream",
          "name": "stdout",
          "text": [
            "2\n",
            "1\n",
            "1\n",
            "1\n",
            "0\n",
            "1\n",
            "1\n"
          ]
        }
      ]
    },
    {
      "cell_type": "markdown",
      "source": [
        "3.\tจากข้อ 1 ให้เขียนฟังก์ชันชื่อ spelling_correction โดยรับ 2 argument ตัวแรกเป็นประโยค (string) และตัวที่ 2 เป็น list ของคำ (correct_spells) โดยฟังก์ชันนี้มีหน้าที่ตรวจสอบแต่ละ word ใน input string กับคำที่อยู่ใน correct_spells โดยค่าที่คืนกลับมาจะมีดังนี้ (พยายามเรียกใช้ฟังก์ชันในข้อ 1)\n",
        "-\tถ้าคำที่อยู่ในประโยค ตรงกับคำที่อยู่ใน correct_spells ทุกอย่าง ก็จะ copy ไปที่ output string\n",
        "-\tถ้าคำที่อยู่ในประโยค ต่างจากคำที่อยู่ใน correct_spells โดยต่างกัน 1 ตัวอักษร โดยการเปลี่ยน การเพิ่ม หรือการลบ 1 ตัวอักษร คำที่อยู่ในประโยคจะถูกเปลี่ยนโดยคำที่อยู่ใน correct_spells และนำไปใส่ output string\n",
        "-\tถ้าคำที่ไม่พบในเงื่อนไขข้างต้นให้นำคำนั้นไปใส่ output string ได้เลย\n",
        "-\tคำที่ประกอบด้วย 1 หรือ 2 ตัวอักษรจะไม่ตรวจสอบ ให้นำคำนั้นไปใส่ output string ได้เลย\n",
        "-\tถ้ามี 2 คำใน correct_spells ที่ตรงตามเงื่อนไข ให้ใช้คำแรก\n",
        "-\tไม่สนใจตัวใหญ่ ตัวเล็ก\n",
        "-\tInput string จะมีได้เพียงอักษรภาษาอังกฤษเท่านั้น\n",
        "-\tในแต่ละคำจะคั่นด้วย 1 space ถ้ามี space มากกว่านั้นให้ตัดออก และตัด space จากหัวท้ายประโยค\n",
        "\n",
        "|ประโยค\t|correct_spells\t|output string |\n",
        "|-------|---------------|-------------|\n",
        "|Thes is the Firs cas\t|[‘that’,’first’,’case’,’car’]|\tthes is the first car|\n",
        "|programming is fan and easy\t|[‘programming’,’this’,’fun’,’easy’,book’]\t|programming is fun and easy|\n",
        "|Thes is vary essy\t|[‘this’,’is’,’very’,’easy’]\t|this is very easy|\n",
        "|Wee ipve Pythen\t|[‘we’,’live’,’ln’,’Python’]\t|we live python|\n",
        "\n",
        "\n"
      ],
      "metadata": {
        "id": "jzXp83HSbMh9"
      }
    },
    {
      "cell_type": "code",
      "source": [
        "def find_mismatch(str1, str2):\n",
        "  str1 = str1.lower()\n",
        "  str2 = str2.lower()\n",
        "\n",
        "  if str1 == str2:\n",
        "    return 0\n",
        "\n",
        "  if abs(len(str1) - len(str2)) == 1:\n",
        "    if len(str1) > len(str2):\n",
        "      for i in range(len(str1)):\n",
        "        if str1[:i] + str1[i+1:] == str2:\n",
        "          return 1\n",
        "    else:\n",
        "      for i in range(len(str2)):\n",
        "        if str2[:i] + str2[i+1:] == str1:\n",
        "          return 1\n",
        "\n",
        "  if len(str1) == len(str2):\n",
        "    cnt_mismatch = 0\n",
        "    for i in range(len(str1)):\n",
        "      if str1[i] != str2[i]:\n",
        "        cnt_mismatch += 1\n",
        "      if cnt_mismatch > 1:\n",
        "        return 2\n",
        "    return 1\n",
        "  return 2\n",
        "\n",
        "def spelling_correction(input_string, correct_spells):\n",
        "  words = input_string.split()\n",
        "  corrected_sentence = []\n",
        "\n",
        "  for word in words:\n",
        "    if len(word) <= 2:\n",
        "      corrected_sentence.append(word)\n",
        "      continue\n",
        "\n",
        "    corrected_word = word\n",
        "    for correct_spell in correct_spells:\n",
        "      mismatch_result = find_mismatch(word, correct_spell)\n",
        "      if mismatch_result <= 1:\n",
        "        corrected_word = correct_spell\n",
        "        break\n",
        "\n",
        "    corrected_sentence.append(corrected_word)\n",
        "\n",
        "  return ' '.join(corrected_sentence)\n",
        "\n",
        "print(spelling_correction('Thes is the Firs cas', ['that', 'first', 'case', 'car']))  # Output: 'thes is the first car'\n",
        "print(spelling_correction('programming is fan and easy', ['programming', 'this', 'fun', 'easy', 'book']))  # Output: 'programming is fun and easy'\n",
        "print(spelling_correction('Thes is vary essy', ['this', 'is', 'very', 'easy']))  # Output: 'this is very easy'\n",
        "print(spelling_correction('Wee ipve Pythen', ['we', 'live', 'ln', 'Python']))  # Output: 'we live python'"
      ],
      "metadata": {
        "id": "4NW0Y1hXpfCt",
        "colab": {
          "base_uri": "https://localhost:8080/"
        },
        "outputId": "45d95e81-127d-469a-ae0a-4543c51ad217"
      },
      "execution_count": 10,
      "outputs": [
        {
          "output_type": "stream",
          "name": "stdout",
          "text": [
            "Thes is the first case\n",
            "programming is fun and easy\n",
            "this is very easy\n",
            "we ipve Python\n"
          ]
        }
      ]
    },
    {
      "cell_type": "markdown",
      "source": [
        "4. ให้เขียนฟังก์ชัน find_word_horizontal ซึ่งจะรับ list ขนาด 2 มิติ ของตัวอักษร (คล้ายกับเกม cross word) และ word ซึ่งเป็น string เป็น argument โดยฟังก์ชันนี้ จะค้นหาตามแถวของ list เพื่อหาตำแหน่งที่มีอักษรตรงกับคำใน word ถ้าพบ จะส่งคืน row index และ column index ของตัวอักษรแรก ถ้าไม่พบจะส่งคืน None\n",
        "\n",
        "```\n",
        "crosswords=[['s','d','o','g'],\n",
        "            ['c','u','c','m'],\n",
        "            ['a','c','a','t'],\n",
        "            ['t',' e','t','k']]\n",
        "\tword='cat'\n",
        "\tfind_word_horizontal(crosswords,word)\n",
        "```\n",
        "\n",
        "Output\n",
        "   [2,1]\n"
      ],
      "metadata": {
        "id": "sshYZJYZpfua"
      }
    },
    {
      "cell_type": "code",
      "source": [
        "def find_word_horizontal(crosswords, word):\n",
        "    for row in range(len(crosswords)):\n",
        "      for col in range(len(crosswords[0]) - len(word) + 1):\n",
        "        if crosswords[row][col:col+len(word)] == list(word):\n",
        "          return row, col\n",
        "    return None\n",
        "\n",
        "crosswords=[['s','d','o','g'],\n",
        "            ['c','u','c','m'],\n",
        "            ['a','c','a','t'],\n",
        "            ['t',' e','t','k']]\n",
        "word='cat'\n",
        "find_word_horizontal(crosswords,word)"
      ],
      "metadata": {
        "id": "2z0nonPMqZ_Q",
        "colab": {
          "base_uri": "https://localhost:8080/"
        },
        "outputId": "b8baaa88-4687-4ded-a0e3-c2c4b16937c8"
      },
      "execution_count": 20,
      "outputs": [
        {
          "output_type": "execute_result",
          "data": {
            "text/plain": [
              "(0, 1)"
            ]
          },
          "metadata": {},
          "execution_count": 20
        }
      ]
    },
    {
      "cell_type": "markdown",
      "source": [
        "5. ให้เขียนฟังก์ชัน find_word_vertical ซึ่งจะรับ list ขนาด 2 มิติ ของตัวอักษร (คล้ายกับเกม cross word) และ word ซึ่งเป็น string เป็น argument โดยฟังก์ชันนี้ จะค้นหาตามคอลัมน์ของ list เพื่อหาตำแหน่งที่มีอักษรตรงกับคำใน word ถ้าพบ จะส่งคืน row index และ column index ของตัวอักษรแรก ถ้าไม่พบจะส่งคืน None\n",
        "\n",
        "ตัวอย่าง\n",
        "```\n",
        "\tcrosswords=[['s','d','o','g'],\n",
        "              ['c','u','c','m'],\n",
        "              ['a','c','a','t'],\n",
        "              ['t',' e','t','k']]\n",
        "\tword='cat'\n",
        "\tfind_word_vertical(crosswords,word)\n",
        "```\n",
        "\n",
        "Output\n",
        "   [1,0]\n"
      ],
      "metadata": {
        "id": "sDhGHMPsqr6a"
      }
    },
    {
      "cell_type": "code",
      "source": [
        "def find_word_vertical(crosswords, word):\n",
        "  word_arr = []\n",
        "  for col in range(len(crosswords[0])):\n",
        "    for row in range(len(crosswords) - len(word) + 1):\n",
        "      if [crosswords[i][col] for i in range(row, row+len(word))] == list(word):\n",
        "        word_arr.append(row)\n",
        "        word_arr.append(col)\n",
        "        return word_arr\n",
        "  return None\n",
        "\n",
        "crosswords=[['s','d','o','g'],\n",
        "              ['c','u','c','m'],\n",
        "              ['a','c','a','t'],\n",
        "              ['t',' e','t','k']]\n",
        "word='cat'\n",
        "find_word_vertical(crosswords,word)"
      ],
      "metadata": {
        "id": "R5Jp1CkQrEz9",
        "colab": {
          "base_uri": "https://localhost:8080/"
        },
        "outputId": "b2ada3ee-9abd-4f14-a5e9-a606d56c652b"
      },
      "execution_count": 4,
      "outputs": [
        {
          "output_type": "execute_result",
          "data": {
            "text/plain": [
              "[1, 0]"
            ]
          },
          "metadata": {},
          "execution_count": 4
        }
      ]
    },
    {
      "cell_type": "markdown",
      "source": [
        "6.\tให้เขียนฟังก์ชัน capitalize_word_in_crossword จะรับ list ขนาด 2 มิติ ของตัวอักษร (คล้ายกับเกม cross word) และ word ซึ่งเป็น string เป็น argument โดยฟังก์ชันนี้ จะค้นหาตาม row และ column ของ list เพื่อหาตำแหน่งที่มีอักษรตรงกับคำใน word ถ้าพบจะเปลี่ยนเป็นตัวใหญ่และ และส่งคืน list ที่แก้ไขแล้ว แต่ถ้าไม่เจอจะส่ง list เดิมกลับมา ให้ใช้ฟังก์ชันตามข้อ 3 และ 4 ช่วย\n",
        "\n",
        "```\n",
        "crosswords=[['s','d','o','g'],\n",
        "            ['c','u','c','m'],\n",
        "            ['a','x','a','t'],\n",
        "            ['t','e','t','k']]\n",
        "word='cat'\n",
        "capitalize_word_in_crossword(crosswords,word)\n",
        "```\n",
        "จะส่งค่ากลับ\n",
        "```\n",
        " [['s','d','o','g'],\n",
        "  ['C','u','c','m'],\n",
        "  ['A','x','a','t'],\n",
        "  ['T','e','t','k']]\n",
        "```\n",
        "```\n",
        "crosswords=[['s','d','o','g'],\n",
        "            ['c','u','c','m'],\n",
        "            ['a','c','a','t'],\n",
        "            ['t','e','t','k']]\n",
        "word='cat'\n",
        "capitalize_word_in_crossword(crosswords,word)\n",
        "จะส่งค่ากลับ                   \n",
        "[['s','d','o','g'],\n",
        " ['c','u','c','m'],\n",
        " ['a','C','A','T'],\n",
        " ['t','e','t','k']]\n",
        "```\n",
        "\n",
        "\n"
      ],
      "metadata": {
        "id": "dinoUBQTrDFp"
      }
    },
    {
      "cell_type": "code",
      "source": [
        "def find_word_horizontal(crosswords, word):\n",
        "    for row in range(len(crosswords)):\n",
        "      for col in range(len(crosswords[0]) - len(word) + 1):\n",
        "        if crosswords[row][col:col+len(word)] == list(word):\n",
        "          return row, col\n",
        "    return None\n",
        "\n",
        "def find_word_vertical(crosswords, word):\n",
        "  word_arr = []\n",
        "  for col in range(len(crosswords[0])):\n",
        "    for row in range(len(crosswords) - len(word) + 1):\n",
        "      if [crosswords[i][col] for i in range(row, row+len(word))] == list(word):\n",
        "        word_arr.append(row)\n",
        "        word_arr.append(col)\n",
        "        return word_arr\n",
        "  return None\n",
        "\n",
        "def capitalize_word_in_crossword(crosswords, word):\n",
        "    table_test = [row[:] for row in crosswords]\n",
        "    horizontal_position = find_word_horizontal(crosswords, word)\n",
        "    if horizontal_position:\n",
        "      row, col = horizontal_position\n",
        "      for i in range(len(word)):\n",
        "        table_test[row][col+i] = table_test[row][col+i].upper()\n",
        "\n",
        "    vertical_position = find_word_vertical(crosswords, word)\n",
        "    if vertical_position:\n",
        "      row, col = vertical_position\n",
        "      for i in range(len(word)):\n",
        "        table_test[row+i][col] = table_test[row+i][col].upper()\n",
        "\n",
        "    return table_test\n",
        "\n",
        "crosswords=[['s','d','o','g'],\n",
        "            ['c','u','c','m'],\n",
        "            ['a','c','a','t'],\n",
        "            ['t','e','t','k']]\n",
        "word='cat'\n",
        "capitalize_word_in_crossword(crosswords,word)"
      ],
      "metadata": {
        "id": "IM99mZNs0css",
        "colab": {
          "base_uri": "https://localhost:8080/"
        },
        "outputId": "d7c874b8-5d93-47ca-89dc-f7d80c0f1099"
      },
      "execution_count": 8,
      "outputs": [
        {
          "output_type": "execute_result",
          "data": {
            "text/plain": [
              "[['s', 'd', 'o', 'g'],\n",
              " ['C', 'u', 'c', 'm'],\n",
              " ['A', 'C', 'A', 'T'],\n",
              " ['T', 'e', 't', 'k']]"
            ]
          },
          "metadata": {},
          "execution_count": 8
        }
      ]
    }
  ]
}