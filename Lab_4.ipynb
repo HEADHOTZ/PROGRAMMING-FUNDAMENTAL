{
  "nbformat": 4,
  "nbformat_minor": 0,
  "metadata": {
    "colab": {
      "provenance": [],
      "include_colab_link": true
    },
    "kernelspec": {
      "name": "python3",
      "display_name": "Python 3"
    },
    "language_info": {
      "name": "python"
    }
  },
  "cells": [
    {
      "cell_type": "markdown",
      "metadata": {
        "id": "view-in-github",
        "colab_type": "text"
      },
      "source": [
        "<a href=\"https://colab.research.google.com/github/HEADHOTZ/PROGRAMMING-FUNDAMENTAL/blob/main/Lab_4.ipynb\" target=\"_parent\"><img src=\"https://colab.research.google.com/assets/colab-badge.svg\" alt=\"Open In Colab\"/></a>"
      ]
    },
    {
      "cell_type": "markdown",
      "source": [
        "4.1 2520 คือ ตัวเลขที่น้อยที่สุด ที่สามารถหารด้วยตัวเลขทุกตัวตั้งแต่ 1-10 จงหาจำนวนเต็มบวกที่น้อยที่สุดที่หารด้วยตัวเลขทุกตัวตั้งแต่ 1-20\n",
        "\n",
        "15 = 360360\n",
        "\n",
        "20 = 232792560\n",
        "\n",
        "ปล. ห้าม import math"
      ],
      "metadata": {
        "id": "-bpz7hteQPdz"
      }
    },
    {
      "cell_type": "code",
      "execution_count": null,
      "metadata": {
        "id": "HSZUXcF2QMVn",
        "colab": {
          "base_uri": "https://localhost:8080/"
        },
        "outputId": "49cfb744-ddfc-4ca5-bf09-46d13b4257af"
      },
      "outputs": [
        {
          "output_type": "stream",
          "name": "stdout",
          "text": [
            "1 = 1\n",
            "2 = 2\n",
            "3 = 6\n",
            "4 = 12\n",
            "5 = 60\n",
            "6 = 60\n",
            "7 = 420\n",
            "8 = 840\n",
            "9 = 2520\n",
            "10 = 2520\n",
            "11 = 27720\n",
            "12 = 27720\n",
            "13 = 360360\n",
            "14 = 360360\n",
            "15 = 360360\n",
            "16 = 720720\n",
            "17 = 12252240\n",
            "18 = 12252240\n",
            "19 = 232792560\n",
            "20 = 232792560\n"
          ]
        }
      ],
      "source": [
        "n = 20\n",
        "\n",
        "result = 1\n",
        "\n",
        "for i in range(1, n+1):\n",
        "  a = result\n",
        "  b = i\n",
        "  while b != 0:\n",
        "    temp = b\n",
        "    b = a % b\n",
        "    a = temp\n",
        "  gcd = a\n",
        "\n",
        "  result = abs(result * i) // gcd\n",
        "\n",
        "  print(i, '=',result)"
      ]
    },
    {
      "cell_type": "markdown",
      "source": [
        "4.2 จำนวนเฉพาะ (Prime Number) คือตัวเลขที่มีแต่ 1 กับตัวมันเองที่หารลงตัว โดยจำนวนเฉพาะ 6 ตัวแรกคือ 2, 3, 5, 7, 11, 13 โดยจำนวนเฉพาะตัวที่ 6 คือ 13 จงหาจำนวนเฉพาะตัวที่ 101\n",
        "\n",
        "=> 547"
      ],
      "metadata": {
        "id": "Wq1EFYHUWNOA"
      }
    },
    {
      "cell_type": "code",
      "source": [
        "n = 101\n",
        "cnt = 0\n",
        "i = 1\n",
        "\n",
        "while cnt < 101:\n",
        "  i += 1\n",
        "  for j in range(2,i):\n",
        "    if i % j == 0:\n",
        "      break\n",
        "  else:\n",
        "    cnt +=1\n",
        "    print(cnt,'=', i)"
      ],
      "metadata": {
        "colab": {
          "base_uri": "https://localhost:8080/"
        },
        "id": "cpMa6Vp0Vz_L",
        "outputId": "96f94551-5909-4e4a-e62c-61c546a4f3f4"
      },
      "execution_count": null,
      "outputs": [
        {
          "output_type": "stream",
          "name": "stdout",
          "text": [
            "1 = 2\n",
            "2 = 3\n",
            "3 = 5\n",
            "4 = 7\n",
            "5 = 11\n",
            "6 = 13\n",
            "7 = 17\n",
            "8 = 19\n",
            "9 = 23\n",
            "10 = 29\n",
            "11 = 31\n",
            "12 = 37\n",
            "13 = 41\n",
            "14 = 43\n",
            "15 = 47\n",
            "16 = 53\n",
            "17 = 59\n",
            "18 = 61\n",
            "19 = 67\n",
            "20 = 71\n",
            "21 = 73\n",
            "22 = 79\n",
            "23 = 83\n",
            "24 = 89\n",
            "25 = 97\n",
            "26 = 101\n",
            "27 = 103\n",
            "28 = 107\n",
            "29 = 109\n",
            "30 = 113\n",
            "31 = 127\n",
            "32 = 131\n",
            "33 = 137\n",
            "34 = 139\n",
            "35 = 149\n",
            "36 = 151\n",
            "37 = 157\n",
            "38 = 163\n",
            "39 = 167\n",
            "40 = 173\n",
            "41 = 179\n",
            "42 = 181\n",
            "43 = 191\n",
            "44 = 193\n",
            "45 = 197\n",
            "46 = 199\n",
            "47 = 211\n",
            "48 = 223\n",
            "49 = 227\n",
            "50 = 229\n",
            "51 = 233\n",
            "52 = 239\n",
            "53 = 241\n",
            "54 = 251\n",
            "55 = 257\n",
            "56 = 263\n",
            "57 = 269\n",
            "58 = 271\n",
            "59 = 277\n",
            "60 = 281\n",
            "61 = 283\n",
            "62 = 293\n",
            "63 = 307\n",
            "64 = 311\n",
            "65 = 313\n",
            "66 = 317\n",
            "67 = 331\n",
            "68 = 337\n",
            "69 = 347\n",
            "70 = 349\n",
            "71 = 353\n",
            "72 = 359\n",
            "73 = 367\n",
            "74 = 373\n",
            "75 = 379\n",
            "76 = 383\n",
            "77 = 389\n",
            "78 = 397\n",
            "79 = 401\n",
            "80 = 409\n",
            "81 = 419\n",
            "82 = 421\n",
            "83 = 431\n",
            "84 = 433\n",
            "85 = 439\n",
            "86 = 443\n",
            "87 = 449\n",
            "88 = 457\n",
            "89 = 461\n",
            "90 = 463\n",
            "91 = 467\n",
            "92 = 479\n",
            "93 = 487\n",
            "94 = 491\n",
            "95 = 499\n",
            "96 = 503\n",
            "97 = 509\n",
            "98 = 521\n",
            "99 = 523\n",
            "100 = 541\n",
            "101 = 547\n"
          ]
        }
      ]
    },
    {
      "cell_type": "markdown",
      "source": [
        "1.\tกำหนดให้มี List หนึ่งประกอบด้วยตัวเลขจำนวนหนึ่ง และ ให้รับตัวเลขจำนวน 1 จำนวน จากนั้นให้หาว่าใน List มีตัวเลข 2 จำนวนใดที่บวกกันเท่ากับตัวเลขที่รับมา ให้แสดงคำตอบเป็น List เช่น Output: [0,1] โดยอาจมีมากกว่า 1 คำตอบ\n",
        "\n",
        "ตัวอย่าง list : [2, 7, 11, 15]\n",
        "\n",
        "Input : 9\n",
        "\n",
        "Output : 2 + 7 = 9 (ถ้าไม่มีให้บอก None)\n"
      ],
      "metadata": {
        "id": "-pUpw-m_WqFG"
      }
    },
    {
      "cell_type": "code",
      "source": [
        "mylist = [2, 7, 11, 15]\n",
        "num = input(\"Please Enter the integer : \")\n",
        "sum = 0\n",
        "x = 0\n",
        "y = 0\n",
        "check = False\n",
        "\n",
        "if num.isdigit() == False:\n",
        "  num = input(\"Please Enter the integer : \")\n",
        "\n",
        "for i in range(len(mylist)):\n",
        "  for j in range(len(mylist)):\n",
        "    if mylist[i] != mylist[j]:\n",
        "      if (mylist[i]+mylist[j]) == int(num):\n",
        "        sum = mylist[i] + mylist[j]\n",
        "        x = mylist[i]\n",
        "        y = mylist[j]\n",
        "        check = True\n",
        "\n",
        "if check == True:\n",
        "  print(f'Output : {x} + {y} = {sum}')\n",
        "else:\n",
        "  print('None')\n"
      ],
      "metadata": {
        "id": "s3djwBi4ks1g",
        "colab": {
          "base_uri": "https://localhost:8080/"
        },
        "outputId": "02a3068d-0d64-499d-bcb0-62b3dffb8367"
      },
      "execution_count": null,
      "outputs": [
        {
          "output_type": "stream",
          "name": "stdout",
          "text": [
            "Please Enter the integer : 9\n",
            "Output : 7 + 2 = 9\n"
          ]
        }
      ]
    },
    {
      "cell_type": "markdown",
      "source": [
        "2.\tให้เขียนโปรแกรมรับข้อมูล 1 บรรทัด ประกอบด้วยตัวเลข 1 หลัก จำนวนไม่เกิน 10 ตัว คั่นด้วยช่องว่าง จากนั้นให้นำตัวเลขที่รับเข้ามาเรียงกัน และหาลำดับการเรียงที่ทำให้มีค่าน้อยที่สุด โดยต้องไม่ขึ้นต้นด้วย 0\n",
        "\n",
        "Input : 9 4 6 2  \n",
        "\n",
        "คำตอบ 2469\n",
        "\n",
        "Input : 3 0 8 1 3 3\n",
        "\n",
        "คำตอบ : 103338\n"
      ],
      "metadata": {
        "id": "_3yLG291lSFy"
      }
    },
    {
      "cell_type": "code",
      "source": [
        "n1 = [int(e) for e in input(\"Input : \").split()]\n",
        "cnt = 0\n",
        "\n",
        "if len(n1) > 10:\n",
        "  n1 = [int(e) for e in input(\"Input : \").split()]\n",
        "\n",
        "for i in range(0, len(n1)):\n",
        "  for j in range(i+1, len(n1)):\n",
        "    if n1[i] > n1[j]:\n",
        "      temp = n1[i]\n",
        "      n1[i] = n1[j]\n",
        "      n1[j] = temp\n",
        "\n",
        "if n1[0] == 0:\n",
        "  for i in range(1,len(n1)):\n",
        "    if n1[i] != 0:\n",
        "      temp = n1[0]\n",
        "      n1[0] = n1[i]\n",
        "      n1[i] = temp\n",
        "      break\n",
        "\n",
        "for i in n1:\n",
        "  print(i,sep='',end='')"
      ],
      "metadata": {
        "id": "ACtXvMEyli0L",
        "colab": {
          "base_uri": "https://localhost:8080/"
        },
        "outputId": "08689344-8cfc-4567-e723-6e7480043a7e"
      },
      "execution_count": null,
      "outputs": [
        {
          "output_type": "stream",
          "name": "stdout",
          "text": [
            "Input : 3 0 8 1 3 3\n",
            "103338"
          ]
        }
      ]
    },
    {
      "cell_type": "markdown",
      "source": [
        "3.\tจากตัวเลขต่อไปนี้ ตัวเลขติดกัน 4 ตัวที่เมื่อนำมาคูณกันแล้วมีค่ามากที่สุดคือ 9 × 9 × 8 × 9 = 5832\n",
        "\n",
        "73167176531330624919225119674426574742355349194934\n",
        "96983520312774506326239578318016984801869478851843\n",
        "85861560789112949495459501737958331952853208805511\n",
        "12540698747158523863050715693290963295227443043557\n",
        "66896648950445244523161731856403098711121722383113\n",
        "62229893423380308135336276614282806444486645238749\n",
        "30358907296290491560440772390713810515859307960866\n",
        "70172427121883998797908792274921901699720888093776\n",
        "65727333001053367881220235421809751254540594752243\n",
        "52584907711670556013604839586446706324415722155397\n",
        "53697817977846174064955149290862569321978468622482\n",
        "83972241375657056057490261407972968652414535100474\n",
        "82166370484403199890008895243450658541227588666881\n",
        "16427171479924442928230863465674813919123162824586\n",
        "17866458359124566529476545682848912883142607690042\n",
        "24219022671055626321111109370544217506941658960408\n",
        "07198403850962455444362981230987879927244284909188\n",
        "84580156166097919133875499200524063689912560717606\n",
        "05886116467109405077541002256983155200055935729725\n",
        "71636269561882670428252483600823257530420752963450\n",
        "\n",
        "จงหาเลขติดกัน 8 ตัวที่เมื่อนำมาคูณกันแล้วมีค่ามากที่สุด และเป็นเลขอะไร ผลคูณเท่ากับเท่าไร\n",
        "\n",
        "The maximum product is: 7838208\n",
        "The digits are: 88399879\n",
        "\n",
        "\n",
        "\n"
      ],
      "metadata": {
        "id": "Gv8aIY7dliSY"
      }
    },
    {
      "cell_type": "code",
      "source": [
        "number_string = (\n",
        "    \"73167176531330624919225119674426574742355349194934\"\n",
        "    \"96983520312774506326239578318016984801869478851843\"\n",
        "    \"85861560789112949495459501737958331952853208805511\"\n",
        "    \"12540698747158523863050715693290963295227443043557\"\n",
        "    \"66896648950445244523161731856403098711121722383113\"\n",
        "    \"62229893423380308135336276614282806444486645238749\"\n",
        "    \"30358907296290491560440772390713810515859307960866\"\n",
        "    \"70172427121883998797908792274921901699720888093776\"\n",
        "    \"65727333001053367881220235421809751254540594752243\"\n",
        "    \"52584907711670556013604839586446706324415722155397\"\n",
        "    \"53697817977846174064955149290862569321978468622482\"\n",
        "    \"83972241375657056057490261407972968652414535100474\"\n",
        "    \"82166370484403199890008895243450658541227588666881\"\n",
        "    \"16427171479924442928230863465674813919123162824586\"\n",
        "    \"17866458359124566529476545682848912883142607690042\"\n",
        "    \"24219022671055626321111109370544217506941658960408\"\n",
        "    \"07198403850962455444362981230987879927244284909188\"\n",
        "    \"84580156166097919133875499200524063689912560717606\"\n",
        "    \"05886116467109405077541002256983155200055935729725\"\n",
        "    \"71636269561882670428252483600823257530420752963450\"\n",
        ")\n",
        "\n",
        "length = 8\n",
        "max_product = 0\n",
        "best_sequence = \"\"\n",
        "\n",
        "for i in range(len(number_string) - length + 1):\n",
        "    substring = number_string[i: i+length]\n",
        "\n",
        "    product = 1\n",
        "    for char in substring:\n",
        "        product *= int(char)\n",
        "\n",
        "    if product > max_product:\n",
        "        max_product = product\n",
        "        best_sequence = substring\n",
        "\n",
        "print(f\"The maximum product is: {max_product}\")\n",
        "print(f\"The digits are: {best_sequence}\")"
      ],
      "metadata": {
        "id": "wvVqGMknmBu5",
        "colab": {
          "base_uri": "https://localhost:8080/"
        },
        "outputId": "9f611112-b943-461e-f8f6-5ee2863d1bde"
      },
      "execution_count": null,
      "outputs": [
        {
          "output_type": "stream",
          "name": "stdout",
          "text": [
            "The maximum product is: 7838208\n",
            "The digits are: 88399879\n"
          ]
        }
      ]
    },
    {
      "cell_type": "markdown",
      "source": [
        "4.\tตัวเลข palindrome คือตัวเลขที่อ่านได้ทั้ง 2 ทาง แล้วมีค่าเท่ากัน เช่น 9009 โดย 9009 คือ palindrome ที่เกิดจากการคูณของตัวเลข 2 หลักที่มากที่สุด คือ 91x99 จงหา palindrome ที่มากที่สุดของตัวเลข 3 หลัก\n",
        "\n",
        "The largest palindrome product of 3-digit numbers is: 906609\n"
      ],
      "metadata": {
        "id": "fjy5LNC7m0We"
      }
    },
    {
      "cell_type": "code",
      "source": [
        "max_palindrome = 0\n",
        "for i in range(100, 1000):\n",
        "    for j in range(i, 1000):\n",
        "        product = i * j\n",
        "        product_str = str(product)\n",
        "        if product_str == product_str[::-1] and product > max_palindrome:\n",
        "            max_palindrome = product\n",
        "\n",
        "print(\"The largest palindrome product of 3-digit numbers is:\", max_palindrome)"
      ],
      "metadata": {
        "id": "y-QY3hzVmsud",
        "colab": {
          "base_uri": "https://localhost:8080/"
        },
        "outputId": "340f3c70-a050-445e-9730-f67e5a9497b5"
      },
      "execution_count": null,
      "outputs": [
        {
          "output_type": "stream",
          "name": "stdout",
          "text": [
            "The largest palindrome product of 3-digit numbers is: 906609\n"
          ]
        }
      ]
    },
    {
      "cell_type": "markdown",
      "source": [
        "5.\tกำหนดให้ string มีเพียงสัญลักษณ์ '(', ')', '{', '}', '[' และ ']' ให้ตรวจสอบว่า String ถูกต้อง โดย เมื่อมีวงเล็บเปิด จะต้องมีวงเล็บปิดที่เป็นชนิดเดียวกัน จำนวนเท่ากันที่เป็นคู่ของมัน\n",
        "\n",
        "```\n",
        "Input: s = \"()\"\n",
        "Output: true\n",
        "Input: s = \"()[]{}\"\n",
        "Output: true\n",
        "Input: s = \"[()]{}\"\n",
        "Output: true\n",
        "Input: s = \"(]\"\n",
        "Output: false\n",
        "```\n",
        "\n",
        "\n"
      ],
      "metadata": {
        "id": "rUZvLJ-JnGJY"
      }
    },
    {
      "cell_type": "code",
      "source": [
        "s = \"(]\"\n",
        "cnt_paren = 0     # ()\n",
        "cnt_brace = 0     # {}\n",
        "cnt_bracket = 0   # []\n",
        "\n",
        "for char in s:\n",
        "  if char == '(' or char == ')':\n",
        "    cnt_paren += 1\n",
        "  elif char == '{' or char == '}':\n",
        "    cnt_brace += 1\n",
        "  elif char == '[' or char == ']':\n",
        "    cnt_bracket += 1\n",
        "\n",
        "if cnt_paren % 2 == 0 and cnt_brace % 2 == 0 and cnt_bracket % 2 ==0:\n",
        "  print('Output : true')\n",
        "else:\n",
        "  print('Output : false')"
      ],
      "metadata": {
        "id": "Ku8ts4x7nk1y",
        "colab": {
          "base_uri": "https://localhost:8080/"
        },
        "outputId": "8dfad1a4-af40-4ec9-8c61-608e6b8f680d"
      },
      "execution_count": null,
      "outputs": [
        {
          "output_type": "stream",
          "name": "stdout",
          "text": [
            "Output : false\n"
          ]
        }
      ]
    },
    {
      "cell_type": "markdown",
      "source": [
        "6.\tกำหนดให้รับข้อมูล Integer (เป็นบวกหรือลบก็ได้) จากนั้นให้แสดงผลลัพธ์ที่ reverse ตัวเลขตามตัวอย่าง\n",
        "\n",
        "```\n",
        "Input: x = 123\n",
        "Output: 321\n",
        "Input: x = -123\n",
        "Output: -321\n",
        "Input: x = 120\n",
        "Output: 21\n",
        "```\n",
        "\n"
      ],
      "metadata": {
        "id": "PLL9Wdqqnx7o"
      }
    },
    {
      "cell_type": "code",
      "source": [
        "num = (input(\"Please enter input : \"))\n",
        "num_check = ''\n",
        "reverse_num = ''\n",
        "st_minus = 0\n",
        "\n",
        "if num.isalpha() == True:\n",
        "  num = (input(\"Please enter input : \"))\n",
        "\n",
        "for i in range(len(num)-1,-1,-1):\n",
        "  if num[i] != '-':\n",
        "    reverse_num += num[i]\n",
        "  else:\n",
        "    st_minus = 1\n",
        "\n",
        "if st_minus == 1:\n",
        "  print('-',int(reverse_num),sep='')\n",
        "else:\n",
        "  print(int(reverse_num))"
      ],
      "metadata": {
        "colab": {
          "base_uri": "https://localhost:8080/"
        },
        "id": "5Lj9ZZW-oRFB",
        "outputId": "9d73ecf7-e73c-4466-cc36-8c4bfe2a6703"
      },
      "execution_count": null,
      "outputs": [
        {
          "output_type": "stream",
          "name": "stdout",
          "text": [
            "Please enter input : 0\n",
            "0\n"
          ]
        }
      ]
    },
    {
      "cell_type": "markdown",
      "source": [
        "7.\tเขียนโปรแกรมเพื่อแสดงปิรามิดบนจอภาพ โดยแสดงเป็นรูปสี่เหลี่ยม ตัวเลขเริ่มจาก 0  และเพิ่มค่าตามลําดับจํานวนขั้น จาก 0 ถึง N (รับค่า N จากคีย์บอร์ด) ค่าของ N อยู่ระหว่าง 0-9 ดังตัวอย่าง\n",
        "\n",
        "\n",
        "```\n",
        "\t\t\t\t\t\t\t\t\t         0000000\n",
        "\t\t\t\t\t\t\t    00000\t\t0111110\n",
        "\t\t\t\t\t000\t\t 01110\t\t0122210\n",
        "\t\t\t0\t\t010\t\t01210\t\t0123210\n",
        "\t\t\t\t\t000\t\t 01110\t\t0122210\n",
        "\t\t\t\t\t\t\t    00000\t\t0111110\n",
        "\t\t\t\t\t\t\t\t\t         0000000\n",
        "\n",
        "\t\t\tn=0\t\tn=1\t\tn=2\t\tn=3\n",
        "\n",
        "```\n",
        "\n"
      ],
      "metadata": {
        "id": "KboD6c8rn52a"
      }
    },
    {
      "cell_type": "code",
      "source": [
        "n = int(input(\"Please enter between 0 - 9 : \"))\n",
        "\n",
        "if n < 0 or n > 9:\n",
        "  n = int(input(\"Please enter between 0 - 9 : \"))\n",
        "\n",
        "size = (n*2)+1\n",
        "\n",
        "for i in range(size):\n",
        "  for j in range(size):\n",
        "    a = i\n",
        "    b = j\n",
        "    c = size - i - 1\n",
        "    d = size - j - 1\n",
        "\n",
        "    temp = a\n",
        "    if b < temp:\n",
        "      temp = b\n",
        "    if c < temp:\n",
        "      temp = c\n",
        "    if d < temp:\n",
        "      temp = d\n",
        "\n",
        "    print(temp, end=\"\")\n",
        "  print()"
      ],
      "metadata": {
        "id": "sGhw6Iyfobiz",
        "colab": {
          "base_uri": "https://localhost:8080/"
        },
        "outputId": "3b7b2623-03cd-4986-ecc0-bed0b96dc732"
      },
      "execution_count": null,
      "outputs": [
        {
          "output_type": "stream",
          "name": "stdout",
          "text": [
            "Please enter between 0 - 9 : 2\n",
            "00000\n",
            "01110\n",
            "01210\n",
            "01110\n",
            "00000\n"
          ]
        }
      ]
    },
    {
      "cell_type": "markdown",
      "source": [
        "8.\tเขียนโปรแกรมเพื่อแสดงปิรามิดบนจอภาพ โดยแสดงเป็นรูปสี่เหลี่ยม ตัวเลขเริ่มจาก 0  และเพิ่มค่าตามลําดับจํานวนขั้น จาก 0 ถึง N (รับค่า N จากคีย์บอร์ด) กําหนดให้จุดศูนย์กลางของรูปสี่เหลี่ยมอยู่ที่แถว 13 คอลัมน์ 40 ของจอภาพค่าของ N อยู่ระหว่าง 0-9 ดังตัวอย่าง\n",
        "\n",
        "\n",
        "\n",
        "```\n",
        "\t\t\t\t\t\t\t\t\t            0\n",
        "\t\t\t\t\t\t\t      0\t\t    010\n",
        "\t\t\t\t\t  0\t\t  010\t\t  01210\n",
        "\t\t\t0\t\t010\t\t01210\t\t0123210\n",
        "\t\t\t\t\t  0\t\t  010\t\t  01210\n",
        "\t\t\t\t\t\t\t      0\t\t    010\n",
        "\t\t\t\t\t\t\t\t\t            0\n",
        "\n",
        "\t\t\tn=0\t\tn=1\t\tn=2\t\tn=3\n",
        "\n",
        "```\n",
        "\n"
      ],
      "metadata": {
        "id": "ecRYU6Lkob6Q"
      }
    },
    {
      "cell_type": "code",
      "source": [
        "n = int(input(\"Please enter between 0 - 9 : \"))\n",
        "if n < 0 or n > 9:\n",
        "  n = int(input(\"Please enter between 0 - 9 : \"))\n",
        "\n",
        "for i in range(1,n+2):\n",
        "  for j in range(n-i+1):\n",
        "    print(' ',end=\"\")\n",
        "  for k in range(i):\n",
        "    print(k,end=\"\")\n",
        "  for k in range(i - 2, -1, -1):\n",
        "    print(k, end=\"\")\n",
        "  print()\n",
        "\n",
        "for i in range(n,0,-1):\n",
        "  for j in range(n-i+1):\n",
        "    print(' ',end=\"\")\n",
        "  for k in range(i):\n",
        "    print(k, end=\"\")\n",
        "  for k in range(i - 2,-1,-1):\n",
        "    print(k, end=\"\")\n",
        "  print()"
      ],
      "metadata": {
        "colab": {
          "base_uri": "https://localhost:8080/"
        },
        "id": "gbxIuwRuuc-D",
        "outputId": "369d8b50-4462-4022-9d31-d37f82a6c973"
      },
      "execution_count": null,
      "outputs": [
        {
          "output_type": "stream",
          "name": "stdout",
          "text": [
            "Please enter between 0 - 9 : 3\n",
            "   0\n",
            "  010\n",
            " 01210\n",
            "0123210\n",
            " 01210\n",
            "  010\n",
            "   0\n"
          ]
        }
      ]
    },
    {
      "cell_type": "markdown",
      "source": [
        "9.\tให้เขียนโปรแกรมสร้างรูปสามเหลี่ยมที่วางซ้อนกัน 3 รูป โดยแต่ละรูปสร้างมาจากเครื่องหมาย \"*\" โดยกําหนดให้รับตัวเลขระดับของสามเหลี่ยมจากคีย์บอร์ด จากตัวอย่างข้างล่างนี้เป็นรูปสามเหลี่ยมระดับที่ 3 และ 4\n",
        "\n",
        "\n",
        "\n",
        "```\n",
        "              *\n",
        "\t\t     ***\n",
        "\t\t    *****\n",
        "\t\t   *     *\n",
        "\t      ***   ***\n",
        "\t     ***** *****\n",
        "\n",
        "  \t\t    *\n",
        "\t  \t   ***\n",
        "\t\t    *****\n",
        "\t\t   *******\n",
        "\t      *       *\n",
        "\t     ***     ***\n",
        "\t    *****   *****\n",
        "\t   ******* *******\n",
        "\n",
        "```\n",
        "\n"
      ],
      "metadata": {
        "id": "Po50A-Kuo5t4"
      }
    },
    {
      "cell_type": "code",
      "source": [
        "n = input()\n",
        "\n",
        "if n.isdigit() == False:\n",
        "  n = input()\n",
        "\n",
        "n = int(n)\n",
        "\n",
        "for i in range(n,0,-1):\n",
        "  print(' ' * n,end='')\n",
        "  for j in range(1, n+1):\n",
        "    if i - j <= 0:\n",
        "      print('*',end='')\n",
        "    else:\n",
        "      print(' ',end='')\n",
        "  for k in range(n-1,0,-1):\n",
        "    if i - k <= 0:\n",
        "      print('*',end='')\n",
        "    else:\n",
        "      print(' ',end='')\n",
        "  print()\n",
        "\n",
        "for i in range(n,0,-1):\n",
        "  for j in range(1, n+1):\n",
        "    if i - j <= 0:\n",
        "      print('*',end='')\n",
        "    else:\n",
        "      print(' ',end='')\n",
        "  for k in range(n-1,0,-1):\n",
        "    if i - k <= 0:\n",
        "      print('*',end='')\n",
        "    else:\n",
        "      print(' ',end='')\n",
        "\n",
        "  print(' ',end='')\n",
        "\n",
        "  for j in range(1,n+1):\n",
        "    if i - j <= 0:\n",
        "      print('*',end='')\n",
        "    else:\n",
        "      print(' ',end='')\n",
        "  for k in range(n-1,0,-1):\n",
        "    if i - k <= 0:\n",
        "      print('*',end='')\n",
        "    else:\n",
        "      print(' ',end='')\n",
        "\n",
        "  print()"
      ],
      "metadata": {
        "colab": {
          "base_uri": "https://localhost:8080/"
        },
        "id": "1kvtrRnOFAAD",
        "outputId": "a39bfaac-817d-4afd-9f32-f7d0cf2964be"
      },
      "execution_count": null,
      "outputs": [
        {
          "output_type": "stream",
          "name": "stdout",
          "text": [
            "3\n",
            "     *  \n",
            "    *** \n",
            "   *****\n",
            "  *     *  \n",
            " ***   *** \n",
            "***** *****\n"
          ]
        }
      ]
    }
  ]
}