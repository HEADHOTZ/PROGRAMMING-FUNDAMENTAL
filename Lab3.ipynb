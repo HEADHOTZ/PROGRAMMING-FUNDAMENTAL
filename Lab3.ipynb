{
  "nbformat": 4,
  "nbformat_minor": 0,
  "metadata": {
    "colab": {
      "provenance": [],
      "include_colab_link": true
    },
    "kernelspec": {
      "name": "python3",
      "display_name": "Python 3"
    },
    "language_info": {
      "name": "python"
    }
  },
  "cells": [
    {
      "cell_type": "markdown",
      "metadata": {
        "id": "view-in-github",
        "colab_type": "text"
      },
      "source": [
        "<a href=\"https://colab.research.google.com/github/HEADHOTZ/PROGRAMMING-FUNDAMENTAL/blob/main/Lab3.ipynb\" target=\"_parent\"><img src=\"https://colab.research.google.com/assets/colab-badge.svg\" alt=\"Open In Colab\"/></a>"
      ]
    },
    {
      "cell_type": "markdown",
      "source": [
        "# Exercise 3\n",
        "\n",
        "3.1 จากข้อมูลใน List ให้หาผลบวกเฉพาะตัวเลขคู่ โดยใช้ While Loop\n",
        "\n",
        "list1 = [1, 2, 3, 4, 5, 6, 7, 8, 9, 11, 13]\n",
        "\n"
      ],
      "metadata": {
        "id": "8LZVzcOUVMor"
      }
    },
    {
      "cell_type": "code",
      "execution_count": 44,
      "metadata": {
        "id": "2cTrxjMXUE2n",
        "colab": {
          "base_uri": "https://localhost:8080/"
        },
        "outputId": "bad51409-3ef0-4fbb-9ea3-4b7fa8843192"
      },
      "outputs": [
        {
          "output_type": "stream",
          "name": "stdout",
          "text": [
            "20\n"
          ]
        }
      ],
      "source": [
        "list1 = [1, 2, 3, 4, 5, 6, 7, 8, 9, 11, 13]\n",
        "i = 0\n",
        "sum = 0\n",
        "\n",
        "while i < len(list1):\n",
        "  if list1[i] % 2 == 0:\n",
        "    sum = sum + list1[i]\n",
        "  i += 1\n",
        "\n",
        "print(sum)"
      ]
    },
    {
      "cell_type": "markdown",
      "source": [
        "3.2 จากข้อมูลใน List ให้หาตัวเลขที่มีค่ามากที่สุดเป็นอันดับ 2 ใน List โดยใช้ While Loop\n",
        "\n",
        "list = [-5, 7, 10, 1, 2, 5, 8, 100]\n"
      ],
      "metadata": {
        "id": "uPvbrsO_Vimb"
      }
    },
    {
      "cell_type": "code",
      "source": [
        "list1 = [-5, 7, 10, 1, 2, 5, 8, 100]\n",
        "i = 0\n",
        "min1 = list1[0]\n",
        "min2 = list1[1]\n",
        "\n",
        "while i < len(list1):\n",
        "  if list1[i] < min1:\n",
        "    min1 = list1[i]\n",
        "  i += 1\n",
        "\n",
        "i = 0\n",
        "\n",
        "while i < len(list1):\n",
        "  if list1[i] != min1:\n",
        "    if list1[i] < min2:\n",
        "      min2 = list1[i]\n",
        "  i += 1\n",
        "\n",
        "print(min1)\n",
        "print(min2)\n"
      ],
      "metadata": {
        "id": "iUeJ91zfVr1Z",
        "colab": {
          "base_uri": "https://localhost:8080/"
        },
        "outputId": "838b2c6a-7706-419d-9670-9daa26087abf"
      },
      "execution_count": 45,
      "outputs": [
        {
          "output_type": "stream",
          "name": "stdout",
          "text": [
            "-5\n",
            "1\n"
          ]
        }
      ]
    },
    {
      "cell_type": "markdown",
      "source": [
        "3.3 เขียนโปรแกรมรับค่า n แล้วคำนวณค่าต่อไปนี้\n",
        "\n",
        "$1/1^2 + 1/2^2 + 1/3^2 + 1/4^2 + 1/5^2 + … +  1/n^2$\n"
      ],
      "metadata": {
        "id": "udBZzWe9VsU7"
      }
    },
    {
      "cell_type": "code",
      "source": [
        "num = int(input())\n",
        "sum = 0\n",
        "\n",
        "if num == 0:\n",
        "  num = int(input(\"Please Enter Again: \"))\n",
        "\n",
        "if num > 0:\n",
        "  for i in range(1,num+1):\n",
        "    sum += 1/(i**2)\n",
        "  print(sum)\n",
        "else:\n",
        "  num = num * -1\n",
        "  for i in range(1,num+1):\n",
        "    sum += 1/(i**2)\n",
        "  print(sum * -1)"
      ],
      "metadata": {
        "id": "xtBw7zuxWEZ4",
        "colab": {
          "base_uri": "https://localhost:8080/"
        },
        "outputId": "293e4333-9102-472f-d6d0-a75a9f785976"
      },
      "execution_count": 46,
      "outputs": [
        {
          "output_type": "stream",
          "name": "stdout",
          "text": [
            "5\n",
            "1.4636111111111112\n"
          ]
        }
      ]
    },
    {
      "cell_type": "markdown",
      "source": [
        "3.4 จากข้อมูลใน List ให้ตรวจสอบว่า ข้อมูลในลิสต์ s เรียงลำดับจากน้อยไปมากหรือไม่ ตอบเป็น True, False\n",
        "\n",
        "\t[1,2,3,4,5], [5,4,3,2,1]\n"
      ],
      "metadata": {
        "id": "o-6AnE5zWFJJ"
      }
    },
    {
      "cell_type": "code",
      "source": [
        "list1 = [5,4,3,2,1]\n",
        "found_big_data = 0\n",
        "\n",
        "for i in range(0,len(list1)):\n",
        "  for j in range(i+1,len(list1)):\n",
        "    if list1[i] > list1[j]:\n",
        "      found_big_data += 1\n",
        "\n",
        "if found_big_data > 0:\n",
        "  print('False')\n",
        "else:\n",
        "  print('True')\n"
      ],
      "metadata": {
        "id": "LYG2sGGgWNei",
        "colab": {
          "base_uri": "https://localhost:8080/"
        },
        "outputId": "a6a3e7e9-bc89-4382-a714-1ada42b3f8c2"
      },
      "execution_count": 47,
      "outputs": [
        {
          "output_type": "stream",
          "name": "stdout",
          "text": [
            "False\n"
          ]
        }
      ]
    },
    {
      "cell_type": "markdown",
      "source": [
        "3.5  ให้ x เป็นลิสต์เก็บคะแนน ต้องการปรับช่องที่มีค่าน้อยกว่า 30 ให้มีค่าเพิ่มอีก 10% แสดงผลลัพธ์ เป็น List\n",
        "\n",
        "\tx = [60, 70, 72, 65, 55, 43, 20, 90, 12]\n"
      ],
      "metadata": {
        "id": "Hv-fE32hWOBd"
      }
    },
    {
      "cell_type": "code",
      "source": [
        "x = [60, 70, 72, 65, 55, 43, 20, 90, 12]\n",
        "new_score = []\n",
        "\n",
        "for i in x:\n",
        "  if i < 0:\n",
        "    print(\"Error score must be positive value\")\n",
        "    new_score.clear()\n",
        "    break\n",
        "  if i < 30:\n",
        "    i = i + (i * 0.1)\n",
        "  new_score.append(i)\n",
        "\n",
        "print(new_score)"
      ],
      "metadata": {
        "id": "BSFOJ_8GWTtL",
        "colab": {
          "base_uri": "https://localhost:8080/"
        },
        "outputId": "82037f95-33c8-402e-c360-2a07793e07b6"
      },
      "execution_count": 48,
      "outputs": [
        {
          "output_type": "stream",
          "name": "stdout",
          "text": [
            "[60, 70, 72, 65, 55, 43, 22.0, 90, 13.2]\n"
          ]
        }
      ]
    },
    {
      "cell_type": "markdown",
      "source": [
        "3.6 ต้องการหาผลรวมของคะแนนที่เก็บในลิสต์ x โดยขอไม่รวมคะแนนที่น้อยสุดอันดับ 2\n",
        "\n",
        "\tx = [15, 80, 75, 62, 55, 43, 99, 67, 10]\n"
      ],
      "metadata": {
        "id": "IDw88nQbWUTw"
      }
    },
    {
      "cell_type": "code",
      "source": [
        "x = [15, 80, 75, 62, 55, 43, 99, 67, 10]\n",
        "sum = 0\n",
        "\n",
        "for i in range(0, len(x)):\n",
        "  for j in range(i+1, len(x)):\n",
        "    if x[i] > x[j]:\n",
        "      temp = x[i]\n",
        "      x[i] = x[j]\n",
        "      x[j] = temp\n",
        "\n",
        "for i in x:\n",
        "  if i != x[1]:\n",
        "    sum += i\n",
        "\n",
        "print('Total =',sum)"
      ],
      "metadata": {
        "id": "Aool1F22WZKI",
        "colab": {
          "base_uri": "https://localhost:8080/"
        },
        "outputId": "7029c59b-3052-4cee-a005-a0c6cbc1db99"
      },
      "execution_count": 70,
      "outputs": [
        {
          "output_type": "stream",
          "name": "stdout",
          "text": [
            "Total = 491\n"
          ]
        }
      ]
    },
    {
      "cell_type": "markdown",
      "source": [
        "3.7 จากข้อมูลใน List ให้แสดง string ที่มีความยาวมากกว่า 2 และมีอักษรตัวแรกกับตัวสุดท้ายเหมือนกัน แสดงบรรทัดละ 1 ตัว\n",
        "\n",
        "\tlst = ['abba', 'a', 'aa', 'alcaza', 'python', 'stores', 'program', 'execute']\n"
      ],
      "metadata": {
        "id": "92oZ0IQdWZkF"
      }
    },
    {
      "cell_type": "code",
      "source": [
        "lst = ['abba', 'a', 'aa', 'alcaza', 'python', 'stores', 'program', 'execute']\n",
        "for i in lst:\n",
        "  if len(i) > 2:\n",
        "    if i[0] == i[-1]:\n",
        "      print(i)\n"
      ],
      "metadata": {
        "id": "i3vr0x1vWiHH",
        "colab": {
          "base_uri": "https://localhost:8080/"
        },
        "outputId": "789698a9-bd93-43cd-e5f2-5925a377d4c7"
      },
      "execution_count": 50,
      "outputs": [
        {
          "output_type": "stream",
          "name": "stdout",
          "text": [
            "abba\n",
            "alcaza\n",
            "stores\n",
            "execute\n"
          ]
        }
      ]
    },
    {
      "cell_type": "markdown",
      "source": [
        "3.8 จากข้อมูลใน List ให้ลบข้อมูลที่มีซ้ำกันให้เหลือเพียงตัวเดียว ให้แสดงผลเป็น list เช่น\n",
        "\n",
        "[‘a’,’a’] => [‘a’]\n",
        "\n",
        "lst = ['a', 'a', 'b', 'a', 'b', 'c', 'd']\n"
      ],
      "metadata": {
        "id": "QicYHZbcWi8U"
      }
    },
    {
      "cell_type": "code",
      "source": [
        "lst = ['a', 'a', 'b', 'a', 'b', 'c', 'd']\n",
        "filter_lst = []\n",
        "\n",
        "for i in lst:\n",
        "  for j in range(len(lst)):\n",
        "    if i != lst[j] and i not in filter_lst:\n",
        "      filter_lst.append(i)\n",
        "\n",
        "print(filter_lst)"
      ],
      "metadata": {
        "id": "saXxuMceWzd2",
        "colab": {
          "base_uri": "https://localhost:8080/"
        },
        "outputId": "52fad335-9733-4465-f69b-76eee67448f2"
      },
      "execution_count": 51,
      "outputs": [
        {
          "output_type": "stream",
          "name": "stdout",
          "text": [
            "['a', 'b', 'c', 'd']\n"
          ]
        }
      ]
    },
    {
      "cell_type": "markdown",
      "source": [
        "3.9 จากข้อมูลใน List ให้แสดงว่าแต่ละข้อมูลใน List มีจำนวนเท่าไร คือ มีซ้ำกันกี่ตัวใน List  ให้แสดงบรรทัดละตัว เช่น\n",
        "\n",
        "\t[1, 2, 3, 4, 1, 2, 3, 1, 2, 1]\n",
        "\t1 = 4\n",
        "\t2 = 3\n",
        "\t3 = 2\n",
        "\t4 = 1\n",
        "  \n",
        "\tlst = [1,2,3,4,5,1,2,3,4,1,2,3,1,2,1]"
      ],
      "metadata": {
        "id": "Dl6OEM9nWz8s"
      }
    },
    {
      "cell_type": "code",
      "source": [
        "lst = [1,2,3,4,5,1,2,3,4,1,2,3,1,2,1]\n",
        "num_lst = []\n",
        "cnt = 0\n",
        "\n",
        "for i in lst:\n",
        "  for j in range(len(lst)):\n",
        "    if i == lst[j] and i not in num_lst:\n",
        "      num_lst.append(i)\n",
        "\n",
        "for i in num_lst:\n",
        "  cnt = 0\n",
        "  for j in lst:\n",
        "    if i == j:\n",
        "      cnt += 1\n",
        "  print(i,'=',cnt)\n"
      ],
      "metadata": {
        "id": "Dm0dAivtW7vQ",
        "colab": {
          "base_uri": "https://localhost:8080/"
        },
        "outputId": "42381c3d-93c9-404e-97c1-8e7c25a2e3e1"
      },
      "execution_count": 73,
      "outputs": [
        {
          "output_type": "stream",
          "name": "stdout",
          "text": [
            "1 = 5\n",
            "2 = 4\n",
            "3 = 3\n",
            "4 = 2\n",
            "5 = 1\n"
          ]
        }
      ]
    },
    {
      "cell_type": "markdown",
      "source": [
        "1.\tเขียนโปรแกรมเพื่อหาผลบวกของอนุกรม 5+10+15+20+… จนถึง n เมื่อ n เป็นตัวเลขที่รับเข้ามาทางคีย์บอร์ด"
      ],
      "metadata": {
        "id": "GgbgWOV6W8Nn"
      }
    },
    {
      "cell_type": "code",
      "source": [
        "num = int(input())\n",
        "sum = 0\n",
        "\n",
        "for i in range(1,num+1):\n",
        "  if i != num:\n",
        "    print(i*5,'+',sep='',end='')\n",
        "  else:\n",
        "    print(i*5,'= ',end='')\n",
        "  sum += i*5\n",
        "\n",
        "print(sum)"
      ],
      "metadata": {
        "id": "9cCHZsLhXGKm",
        "colab": {
          "base_uri": "https://localhost:8080/"
        },
        "outputId": "341cd49c-3b9a-41f7-a018-694d505ac78e"
      },
      "execution_count": 53,
      "outputs": [
        {
          "output_type": "stream",
          "name": "stdout",
          "text": [
            "10\n",
            "5+10+15+20+25+30+35+40+45+50 = 275\n"
          ]
        }
      ]
    },
    {
      "cell_type": "markdown",
      "source": [
        "2.\tจงเขียนโปรแกรมที่จะหาตัวเลขระหว่าง 2000-3200 ที่หารด้วย 7 ลงตัว แต่หารด้วย 5 ไม่ลงตัว\n",
        "การแสดงผลให้แสดงตัวเลขและคั่นด้วยเครื่องหมาย , ในบรรทัดเดียว\n",
        "\n",
        "2002,2009,2016,2023,2037,2044,2051,2058,2072,2079,2086,2093,2107,2114,2121,2128,2142,2149,2156,2163,2177,2184,2191,2198,2212,2219,2226,2233,2247,2254,2261,2268,2282,2289,2296,2303,2317,2324,2331,2338,2352,2359,2366,2373,2387,2394,2401,2408,2422,2429,2436,2443,2457,2464,2471,2478,2492,2499,2506,2513,2527,2534,2541,2548,2562,2569,2576,2583,2597,2604,2611,2618,2632,2639,2646,2653,2667,2674,2681,2688,2702,2709,2716,2723,2737,2744,2751,2758,2772,2779,2786,2793,2807,2814,2821,2828,2842,2849,2856,2863,2877,2884,2891,2898,2912,2919,2926,2933,2947,2954,2961,2968,2982,2989,2996,3003,3017,3024,3031,3038,3052,3059,3066,3073,3087,3094,3101,3108,3122,3129,3136,3143,3157,3164,3171,3178,3192,3199,"
      ],
      "metadata": {
        "id": "aujapFNTXGsV"
      }
    },
    {
      "cell_type": "code",
      "source": [
        "for i in range(2000,3200):\n",
        "  if i % 7 == 0 and i % 5 > 0:\n",
        "    print(i,end=',')"
      ],
      "metadata": {
        "id": "L-kIF3-nXJqR",
        "colab": {
          "base_uri": "https://localhost:8080/"
        },
        "outputId": "fc6b97f9-3d11-40f5-f25a-ff6ab0819d51"
      },
      "execution_count": 54,
      "outputs": [
        {
          "output_type": "stream",
          "name": "stdout",
          "text": [
            "2002,2009,2016,2023,2037,2044,2051,2058,2072,2079,2086,2093,2107,2114,2121,2128,2142,2149,2156,2163,2177,2184,2191,2198,2212,2219,2226,2233,2247,2254,2261,2268,2282,2289,2296,2303,2317,2324,2331,2338,2352,2359,2366,2373,2387,2394,2401,2408,2422,2429,2436,2443,2457,2464,2471,2478,2492,2499,2506,2513,2527,2534,2541,2548,2562,2569,2576,2583,2597,2604,2611,2618,2632,2639,2646,2653,2667,2674,2681,2688,2702,2709,2716,2723,2737,2744,2751,2758,2772,2779,2786,2793,2807,2814,2821,2828,2842,2849,2856,2863,2877,2884,2891,2898,2912,2919,2926,2933,2947,2954,2961,2968,2982,2989,2996,3003,3017,3024,3031,3038,3052,3059,3066,3073,3087,3094,3101,3108,3122,3129,3136,3143,3157,3164,3171,3178,3192,3199,"
          ]
        }
      ]
    },
    {
      "cell_type": "markdown",
      "source": [
        "3.\tจากข้อมูลใน List ต้องการนับว่า มีข้อมูลกี่คู่ในลิสต์ที่ตัวทางซ้ายมีค่ามากกว่าตัวทางขวา (ไม่จำเป็นต้องอยู่ติดกัน)\n",
        "\n",
        "x = [1, 5, 4, 2, 1]"
      ],
      "metadata": {
        "id": "FCZpmtuFXKUl"
      }
    },
    {
      "cell_type": "code",
      "source": [
        "#DO\n",
        "x = [1, 5, 4, 2, 1]\n",
        "\n",
        "morethan = 0\n",
        "\n",
        "for i in range(len(x)):\n",
        "  for j in x[i:]:\n",
        "    if x[i] > j:\n",
        "      morethan += 1\n",
        "\n",
        "print(morethan)"
      ],
      "metadata": {
        "id": "VBgfWEXuXjQH",
        "colab": {
          "base_uri": "https://localhost:8080/"
        },
        "outputId": "4140868c-0456-46c0-cb2e-7ccfbc80c565"
      },
      "execution_count": 74,
      "outputs": [
        {
          "output_type": "stream",
          "name": "stdout",
          "text": [
            "6\n"
          ]
        }
      ]
    },
    {
      "cell_type": "markdown",
      "source": [
        "4.\tให้ตรวจสอบว่า String ที่รับเข้ามาผ่านคีย์บอร์ด เป็นตัวอักษรพิมพ์เล็ก หรือตัวอักษรพิมพ์ใหญ่ อย่างละกี่ตัว ตอบ 2 บรรทัด พิมพ์เล็ก 1 บรรทัด พิมพ์ใหญ่ 1 บรรทัด\n",
        "\n",
        "klfjslkgD;FGK;LSDKdl;gfk;\n",
        "=> 18,3"
      ],
      "metadata": {
        "id": "UAEC1_jdXjya"
      }
    },
    {
      "cell_type": "code",
      "source": [
        "import string\n",
        "\n",
        "text = input()\n",
        "cnt_upper = 0\n",
        "cnt_lowwer = 0\n",
        "\n",
        "for i in text:\n",
        "  if i in string.ascii_uppercase:\n",
        "    cnt_upper += 1\n",
        "  if i in string.ascii_lowercase:\n",
        "    cnt_lowwer += 1\n",
        "\n",
        "print(\"Lower =\",cnt_lowwer)\n",
        "print(\"Upper =\",cnt_upper)"
      ],
      "metadata": {
        "id": "rSYwEhjEYY8N",
        "colab": {
          "base_uri": "https://localhost:8080/"
        },
        "outputId": "5da8673a-671c-4cb0-e82e-d354953e9cc9"
      },
      "execution_count": 56,
      "outputs": [
        {
          "output_type": "stream",
          "name": "stdout",
          "text": [
            "klfjslkgD;FGK;LSDKdl;gfk;\n",
            "Lower = 13\n",
            "Upper = 8\n"
          ]
        }
      ]
    },
    {
      "cell_type": "markdown",
      "source": [
        "5.\tจงเขียนโปรแกรมที่หาตัวเลขระหว่าง 1000 และ 3000 ที่ทุกหลักเป็นเลขคู่ (รวม 1000 และ 3000) โดยแสดงผลในรูปแบบตัวเลขคั่นด้วย comma\n",
        "\n",
        "2000,2002,2004,2006,2008,2020,2022,2024,2026,2028,2040,2042,2044,2046,2048,2060,2062,2064,2066,2068,2080,2082,2084,2086,2088,2200,2202,2204,2206,2208,2220,2222,2224,2226,2228,2240,2242,2244,2246,2248,2260,2262,2264,2266,2268,2280,2282,2284,2286,2288,2400,2402,2404,2406,2408,2420,2422,2424,2426,2428,2440,2442,2444,2446,2448,2460,2462,2464,2466,2468,2480,2482,2484,2486,2488,2600,2602,2604,2606,2608,2620,2622,2624,2626,2628,2640,2642,2644,2646,2648,2660,2662,2664,2666,2668,2680,2682,2684,2686,2688,2800,2802,2804,2806,2808,2820,2822,2824,2826,2828,2840,2842,2844,2846,2848,2860,2862,2864,2866,2868,2880,2882,2884,2886,2888,"
      ],
      "metadata": {
        "id": "lBtvmw_sYYX_"
      }
    },
    {
      "cell_type": "code",
      "source": [
        "for i in range(1000, 3001):\n",
        "  i_str = str(i)\n",
        "  if int(i_str[0]) % 2 == 0 and int(i_str[1]) % 2 == 0 and int(i_str[2]) % 2 == 0 and int(i_str[3]) % 2 == 0:\n",
        "    print(i,end=',')"
      ],
      "metadata": {
        "id": "VvChTQMjYqYi",
        "colab": {
          "base_uri": "https://localhost:8080/"
        },
        "outputId": "d605a66c-31b2-49ea-833f-122e9523f265"
      },
      "execution_count": 57,
      "outputs": [
        {
          "output_type": "stream",
          "name": "stdout",
          "text": [
            "2000,2002,2004,2006,2008,2020,2022,2024,2026,2028,2040,2042,2044,2046,2048,2060,2062,2064,2066,2068,2080,2082,2084,2086,2088,2200,2202,2204,2206,2208,2220,2222,2224,2226,2228,2240,2242,2244,2246,2248,2260,2262,2264,2266,2268,2280,2282,2284,2286,2288,2400,2402,2404,2406,2408,2420,2422,2424,2426,2428,2440,2442,2444,2446,2448,2460,2462,2464,2466,2468,2480,2482,2484,2486,2488,2600,2602,2604,2606,2608,2620,2622,2624,2626,2628,2640,2642,2644,2646,2648,2660,2662,2664,2666,2668,2680,2682,2684,2686,2688,2800,2802,2804,2806,2808,2820,2822,2824,2826,2828,2840,2842,2844,2846,2848,2860,2862,2864,2866,2868,2880,2882,2884,2886,2888,"
          ]
        }
      ]
    },
    {
      "cell_type": "markdown",
      "source": [
        "6.\tในคณิตศาสตร์ ตัวหารร่วมมาก หรือ ห.ร.ม. (greatest common divisor: gcd) ของจำนวนเต็มสองจำนวนซึ่งไม่เป็นศูนย์พร้อมกัน คือจำนวนเต็มที่มากที่สุดที่หารทั้งสองจำนวนลงตัว\n",
        "จงหา ห.ร.ม. ของจำนวนเต็ม 2 จำนวนที่กำหนดให้\n",
        "ข้อมูลนำเข้า\n",
        "บรรทัดแรกเพียงบรรทัดเดียว ประกอบไปด้วยจำนวนเต็มบวกสองจำนวน a และ b มีค่าไม่เกิน 9999\n",
        "ข้อมูลส่งออก\n",
        "ในบรรทัดแรกของข้อมูลส่งออก ให้แสดงค่า ห.ร.ม. ของ a และ b\n",
        "เช่น \tInput : 12 14\t\tOutput : 2\n",
        "\tInput : 7 3\t\tOutput : 1\n",
        "\n",
        "678\n",
        "345\n",
        "=> 3"
      ],
      "metadata": {
        "id": "6TCedRC8YqyU"
      }
    },
    {
      "cell_type": "code",
      "source": [
        "n1, n2 = [int(e) for e in input(\"Input : \").split()]\n",
        "\n",
        "reinput_state = False\n",
        "\n",
        "if n1 == 0 and n2 == 0:\n",
        "  reinput_state = True\n",
        "elif n1 < 0 or n2 < 0:\n",
        "  reinput_state = True\n",
        "else:\n",
        "  reinput_state = False\n",
        "\n",
        "if reinput_state == True:\n",
        "  n1, n2 = [int(e) for e in input(\"Input : \").split()]\n",
        "else:\n",
        "  while n2 != 0:\n",
        "    temp = n2\n",
        "    n2 = n1 % n2\n",
        "    n1 = temp\n",
        "\n",
        "print('Output :',n1)\n",
        "\n",
        "\n"
      ],
      "metadata": {
        "id": "yrD4p2Q6Y6qr",
        "colab": {
          "base_uri": "https://localhost:8080/"
        },
        "outputId": "1d7d29a9-d1fb-462b-a454-28db00204f9e"
      },
      "execution_count": 58,
      "outputs": [
        {
          "output_type": "stream",
          "name": "stdout",
          "text": [
            "Input : 678 345\n",
            "Output : 3\n"
          ]
        }
      ]
    },
    {
      "cell_type": "markdown",
      "source": [
        "7.\tจงเขียนโปรแกรมที่คำนวณค่าของ a+aa+aaa+aaaa เมื่อรับข้อมูลเป็นตัวเลข 1 หลัก\n",
        "\n",
        "Input : 9\n",
        "\n",
        "Output : 11106 (=9+99+999+9999)\n"
      ],
      "metadata": {
        "id": "DW9riUdiY7KK"
      }
    },
    {
      "cell_type": "code",
      "source": [
        "#Do\n",
        "n = 5\n",
        "\n",
        "print('Input :',n)\n",
        "\n",
        "i = 1\n",
        "num = ''\n",
        "sum = 0\n",
        "\n",
        "if 0 <= n < 10:\n",
        "  while i <= 4:\n",
        "    num = str(n) * i\n",
        "    sum += int(num)\n",
        "    i += 1\n",
        "\n",
        "  print('Output :', sum, f'{str(n)*1}+{str(n)*2}+{str(n)*3}+{str(n)*4}')\n",
        "\n",
        "else:\n",
        "  print(\"Input is much be 0 - 9\")\n",
        "\n"
      ],
      "metadata": {
        "id": "iAZlPfC4Y-GG",
        "colab": {
          "base_uri": "https://localhost:8080/"
        },
        "outputId": "23d0ef3b-d5db-4a80-fc72-7b67f43375d2"
      },
      "execution_count": 59,
      "outputs": [
        {
          "output_type": "stream",
          "name": "stdout",
          "text": [
            "Input : 5\n",
            "Output : 6170 5+55+555+5555\n"
          ]
        }
      ]
    },
    {
      "cell_type": "markdown",
      "source": [
        "8.\tแปลงเลขโรมัน เป็นเลขอารบิก เช่น MMMDCCXXIV = 3724 (ค้นหาวิธีทางทางอินเตอร์เน็ต)\n"
      ],
      "metadata": {
        "id": "G3jPCyruZAZY"
      }
    },
    {
      "cell_type": "code",
      "source": [
        "roman_num = 'MMMDCCXXIV'\n",
        "val = 0\n",
        "\n",
        "roman_val = [['M',1000],\n",
        "             ['D',500],\n",
        "             ['C',100],\n",
        "             ['L',50],\n",
        "             ['X',10],\n",
        "             ['V',5],\n",
        "             ['I',1]\n",
        "           ]\n",
        "\n",
        "print(roman_val[0][1])\n",
        "total = 0\n",
        "prev_value = 0\n",
        "\n",
        "for char in roman_num:\n",
        "    for pair in roman_val:\n",
        "        if pair[0] == char:\n",
        "            value = pair[1]\n",
        "            break\n",
        "\n",
        "    if value > prev_value:\n",
        "        total += value - 2 * prev_value\n",
        "    else:\n",
        "        total += value\n",
        "\n",
        "    prev_value = value\n",
        "\n",
        "print(total)"
      ],
      "metadata": {
        "id": "6RBWGF4IZGnc",
        "colab": {
          "base_uri": "https://localhost:8080/"
        },
        "outputId": "90846ddb-511a-4f8d-8549-53d32453e812"
      },
      "execution_count": 60,
      "outputs": [
        {
          "output_type": "stream",
          "name": "stdout",
          "text": [
            "1000\n",
            "3724\n"
          ]
        }
      ]
    },
    {
      "cell_type": "markdown",
      "source": [
        "9.\tอนุกรม Fibonacci คือ อนุกรมที่ตัวที่ 3 เป็นต้นไปเกิดจาก 2 ตัวหน้าบวกกัน จงเขียนโปรแกรมแสดงอนุกรม\n",
        "เช่น ตั้งแต่ 0-1000 คือ 0, 1, 1, 2, 3, 5, 8, 13, 21, 34, 55, 89, 144, 233, 377, 610, 987\n"
      ],
      "metadata": {
        "id": "SJBVkaFHZHKe"
      }
    },
    {
      "cell_type": "code",
      "source": [
        "a = 0\n",
        "b = 1\n",
        "\n",
        "while a <= 1000:\n",
        "    print(a, end=\",\")\n",
        "    temp = a\n",
        "    a = b\n",
        "    b = temp + b\n",
        "\n",
        "if b <= 1000:\n",
        "    print(b, end=\"\")"
      ],
      "metadata": {
        "id": "Vdtc9KqSZLls",
        "colab": {
          "base_uri": "https://localhost:8080/"
        },
        "outputId": "1471d2e6-6779-4723-de92-087e0efa72ca"
      },
      "execution_count": 61,
      "outputs": [
        {
          "output_type": "stream",
          "name": "stdout",
          "text": [
            "0,1,1,2,3,5,8,13,21,34,55,89,144,233,377,610,987,"
          ]
        }
      ]
    },
    {
      "cell_type": "markdown",
      "source": [
        "10.\tให้สร้างโปรแกรม True Love โดยรับชื่อภาษาอังกฤษของ 2 คน จากนั้นค้นหาว่ามีตัวอักษรอยู่ในคำว่า True และ Love รวมกันกี่ตัว จากนั้นนำมาต่อกันเป็น % ตามรูป (ไม่ต้องแสดงเครื่องหมาย %)"
      ],
      "metadata": {
        "id": "1ykDG1H4ZKd4"
      }
    },
    {
      "cell_type": "code",
      "source": [
        "name1 = input(\"Your name : \")\n",
        "name2 = input(\"His/Her name : \")\n",
        "\n",
        "cnt_t = 0\n",
        "cnt_r = 0\n",
        "cnt_u = 0\n",
        "cnt_e = 0\n",
        "\n",
        "cnt_l = 0\n",
        "cnt_o = 0\n",
        "cnt_v = 0\n",
        "\n",
        "for i in name1:\n",
        "  if i == 't' or i == 'T':\n",
        "    cnt_t += 1\n",
        "  elif i == 'r' or i == 'R':\n",
        "    cnt_r += 1\n",
        "  elif i == 'u' or i == 'U':\n",
        "    cnt_u += 1\n",
        "  elif i == 'e' or i == 'E':\n",
        "    cnt_e += 1\n",
        "  elif i == 'l' or i == 'L':\n",
        "    cnt_l += 1\n",
        "  elif i == 'o' or i == 'O':\n",
        "    cnt_o += 1\n",
        "  elif i == 'v' or i == 'V':\n",
        "    cnt_v += 1\n",
        "  elif i == 'e' or i == 'E':\n",
        "    cnt_e += 1\n",
        "\n",
        "for i in name2:\n",
        "  if i == 't' or i == 'T':\n",
        "    cnt_t += 1\n",
        "  elif i == 'r' or i == 'R':\n",
        "    cnt_r += 1\n",
        "  elif i == 'u' or i == 'U':\n",
        "    cnt_u += 1\n",
        "  elif i == 'e' or i == 'E':\n",
        "    cnt_e += 1\n",
        "  elif i == 'l' or i == 'L':\n",
        "    cnt_l += 1\n",
        "  elif i == 'o' or i == 'O':\n",
        "    cnt_o += 1\n",
        "  elif i == 'v' or i == 'V':\n",
        "    cnt_v += 1\n",
        "  elif i == 'e' or i == 'E':\n",
        "    cnt_e += 1\n",
        "\n",
        "print(cnt_t+cnt_r+cnt_u+cnt_e,end='')\n",
        "print(cnt_l+cnt_o+cnt_v+cnt_e)"
      ],
      "metadata": {
        "id": "syOZPpj2ZPaA",
        "colab": {
          "base_uri": "https://localhost:8080/"
        },
        "outputId": "fcb91759-7ca0-437a-97d4-b7ea7d8dc2f4"
      },
      "execution_count": 68,
      "outputs": [
        {
          "output_type": "stream",
          "name": "stdout",
          "text": [
            "Your name : Krytie Lee Yandoli\n",
            "His/Her name : Aubrey Drake Graham\n",
            "118\n"
          ]
        }
      ]
    }
  ]
}